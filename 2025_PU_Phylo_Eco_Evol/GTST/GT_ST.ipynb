{
 "cells": [
  {
   "cell_type": "markdown",
   "id": "81d83483-486d-4878-bce1-5f61a331a65f",
   "metadata": {},
   "source": [
    "# Tutorial: Gene Trees - Species Trees"
   ]
  },
  {
   "cell_type": "markdown",
   "id": "b13a6022-c3d7-4d1c-9991-a9eba2a170e0",
   "metadata": {},
   "source": [
    "<p> Dr. Mozes Blom (2025)<br>\n",
    "Museum für Naturkunde Berlin<br>\n",
    "Leibniz Institute for Evolutionary and Biodiversity Science</p>"
   ]
  },
  {
   "cell_type": "markdown",
   "id": "a9e5aab9-40c5-436a-856c-51a5f11ca712",
   "metadata": {},
   "source": [
    "## 1. Introduction"
   ]
  },
  {
   "cell_type": "markdown",
   "id": "1e06b54a-1163-4c2f-af2a-3b4665888288",
   "metadata": {},
   "source": [
    "### 1.1 Course note"
   ]
  },
  {
   "cell_type": "markdown",
   "id": "0ddabbca-865b-4d0b-9747-37998c49d751",
   "metadata": {},
   "source": [
    "This tutorial was developed as a practical exercise that complements a Lecture on **Gene trees and Species tree inference** for the MSc course Phylogenetics in Ecology & Evolution, Potsdam University. For further information see the [course website](https://amniota.org/phylogenetics/)."
   ]
  },
  {
   "cell_type": "markdown",
   "id": "77c45e78-fc64-43b2-a4c0-cb402a34a156",
   "metadata": {},
   "source": [
    "### 1.2 Background"
   ]
  },
  {
   "cell_type": "markdown",
   "id": "5703403c-426c-4704-9d60-80594cadaa27",
   "metadata": {},
   "source": [
    "In a previous [tutorial on ML](https://github.com/MozesBlom/tutorials/tree/main/2025_PU_Phylo_Eco_Evol/ML), we have learnt how IQtree3 can be used to infer a Maximum-Likelihood phylogeny for a single alignment. However, we have also learnt that novel genomic approaches enable us to generate genome-scale datasets and that there is often incongruence between gene-trees and the species-tree. See this [Review](https://www.nature.com/articles/s41576-023-00620-x) with some further details. Incomplete Lineage Sorting (ILS) and interspecfic hybridization are two evolutionary processes that are frequently investigated as possible explanations for widespread discordance. In the [tutorial on ILS](https://github.com/MozesBlom/tutorials/tree/main/2025_PU_Phylo_Eco_Evol/ILS), we used msprime to simulate different evolutionary scenarios and demonstrated how the interaction between divergence time and effective population size can determine the extent of ILS, while at the same time interspecific gene flow can lead to additional incongruence between gene- and species tree.\n",
    "\n",
    "The aim of the present tutorial is to bring this all together and demonstrate how we can use large-scale datasets to infer phylogenies for genomic windows spread across a chromosome. These individual window trees can then be used to infer a summary-coalescent species tree and we will use gene- and site-concordance factor to investigate how well specific branches are supported across all trees. Finally, by doing so, I also want to demonstrate how you can upload your own datasets to Google Colab and how we can use Command-Line for phylogenetic inference of larger datasets."
   ]
  },
  {
   "cell_type": "markdown",
   "id": "7e61c0f5-7127-4d0e-be64-3cfd4adb2db3",
   "metadata": {},
   "source": [
    "### 1.3 Practical overview"
   ]
  },
  {
   "cell_type": "markdown",
   "id": "cd95e11d-d259-46d9-94e8-e349e242196f",
   "metadata": {},
   "source": [
    "This computer practical is styled in a Jupyter Notebook (NB) format (see Github [README](https://github.com/MozesBlom/tutorials/tree/main) for more details). In short, Jupyter NBs contain either text cells (such as the current cell) in Markdown format or code cells (frequently) in Python3 format. The aim of this practical is not to provide an exhaustive introduction into Python/Markdown/Jupyter, but to provide an introduction into phylogenomic inference using Maximum Likelihood. Therefore, all code to run this practical is already in place. In addition, there are several questions to be answered and you can double-click on the corresponding cells to enter your answer. Alternatively, you can just write them down for yourself.\n",
    "\n",
    "This tutorial includes a subset of data from [Blom et al. (2025)](https://royalsocietypublishing.org/doi/10.1098/rsbl.2024.0611). It contains all the commands to successfully complete this tutorial and some additional examples that may be of use when analyzing your own datasets for the project work of this course."
   ]
  },
  {
   "cell_type": "markdown",
   "id": "99501c5c-13bf-4d99-9af5-c5343f0de310",
   "metadata": {},
   "source": [
    "### 1.4 Requirements"
   ]
  },
  {
   "cell_type": "markdown",
   "id": "b2de9809-6209-4d26-8ce8-d051aecde645",
   "metadata": {},
   "source": [
    "To run this practical, the following Python modules or software packages are needed:\n",
    "- Python 3+\n",
    "  - [biopython](https://biopython.org/)\n",
    "- [condacolab](https://github.com/conda-incubator/condacolab)\n",
    "- [iqtree3](https://iqtree.github.io/) (installed using conda and the [bioconda repository](https://anaconda.org/bioconda/iqtree), v3.0.1)\n",
    "- [ASTRAL](https://github.com/smirarab/ASTRAL) (installed using conda and the [bioconda repository](https://anaconda.org/bioconda/astral-tree), v5.7.8)"
   ]
  },
  {
   "cell_type": "markdown",
   "id": "e3fa4286-80a3-49b5-8d9b-58ee19650e4a",
   "metadata": {},
   "source": [
    "## 2. Getting Started"
   ]
  },
  {
   "cell_type": "markdown",
   "id": "6888fb95-1d4a-4f9f-aed0-537072088c9a",
   "metadata": {},
   "source": [
    "### 2.1 Install the Conda package manager, IQtree3 and ASTRAL on your Google Colab instance"
   ]
  },
  {
   "cell_type": "markdown",
   "id": "0f191cb1-426a-4572-a931-e5130a055c8a",
   "metadata": {},
   "source": [
    "The software and Python modules mentioned under *1.4 Requirements* first need to be installed and imported before proceeding with the rest of the NB. If running on a Google Colab instance (see [Github](https://github.com/MozesBlom/tutorials/tree/main/2023_Phy_Eco_Evol) for further details) software and modules will always need to be installed. Imagine that, each time you start a new Google Colab instance, you are basically starting a new computer for the very first time! For our installation of **iqtree3**, we will make use of a well-known package manager called Conda. [Conda](https://anaconda.org/anaconda/conda) has been developed to enable the use of distinct software environments on the same computer and it also makes it very easy to install and deploy software packages. Here we are particularly interested in the latter functionality and use it to install **iqtree3** on our google colab instance.\n",
    "\n",
    "If running on your personal desktop, in JupyterLab for example, then this may not be needed if a conda environment is already loaded and selected with the correct software and modules installed. NOTE, if you go the latter route then make sure that JupyterLab itself and all dependencies are installed in the relevant Conda environment. Otherwise, the environment will not pop up in the JupyterLab Desktop environment list and cannot be selected. In all other user cases, first proceed with installing the following software tools:"
   ]
  },
  {
   "cell_type": "code",
   "execution_count": null,
   "id": "f5a67fa3-1980-4379-93bf-ed40875db055",
   "metadata": {},
   "outputs": [],
   "source": [
    "# Install the biopython module, which we will later use for plotting the phylogeny\n",
    "!pip install biopython"
   ]
  },
  {
   "cell_type": "code",
   "execution_count": null,
   "id": "4f42c9d0-6bf4-4c4b-9a98-01cd939eb963",
   "metadata": {},
   "outputs": [],
   "source": [
    "# Double check that it downloaded and was imported as expected\n",
    "import Bio"
   ]
  },
  {
   "cell_type": "code",
   "execution_count": null,
   "id": "1256b7a8-8ef8-4872-b776-a42988b47582",
   "metadata": {},
   "outputs": [],
   "source": [
    "#Install conda using the conda-colab library\n",
    "!pip install -q condacolab\n",
    "import condacolab\n",
    "condacolab.install()\n",
    "\n",
    "#Install iqtree3 from bioconda repository\n",
    "!conda install bioconda::iqtree\n",
    "\n",
    "#Install ASTRAL from bioconda repository\n",
    "!conda install bioconda::astral-tree"
   ]
  },
  {
   "cell_type": "markdown",
   "id": "389e4085-4b8a-409d-a494-e901fc7c4e99",
   "metadata": {},
   "source": [
    "What have we done? First, note the difference between sentences starting with an exclamation mark (!) and without. These are general *command line statements* which can be likened to installing software on your computer. In this case we used pip to download and install biopython and conda colab.\n",
    "\n",
    "Sentences that start without an exclamation mark are in python syntax and executed within a python environment. In the second line, we imported condacolab into the python environment and then used the condacolab function *'condacolab.install()'* to run conda colab on our colab instance.\n",
    "\n",
    "Once that is done, we have successfully installed conda on our Google colab instance and we can use conda to install the latest version of iqtree3 and ASTRAL from the bioconda repository! Have a look for yourself:"
   ]
  },
  {
   "cell_type": "code",
   "execution_count": null,
   "id": "b3b0e0f9-7cc9-4f9c-bfed-8acae3c08644",
   "metadata": {},
   "outputs": [],
   "source": [
    "!iqtree3 --help"
   ]
  },
  {
   "cell_type": "markdown",
   "id": "af507398-c7fe-450a-abc8-85f1dc996a67",
   "metadata": {},
   "source": [
    "**If everything was installed as expected you should now be able to see a list of all the iqtree3 options, as if the program was installed on your own computer!**\n",
    "\n",
    "![iqtree3_installed.png](img/iqtree3_installed.png)"
   ]
  },
  {
   "cell_type": "code",
   "execution_count": null,
   "id": "989d5b35-1a07-438c-a8ce-27912014885a",
   "metadata": {},
   "outputs": [],
   "source": [
    "!astral --help"
   ]
  },
  {
   "cell_type": "markdown",
   "id": "f37f866f-571a-4f90-a107-40e37a977260",
   "metadata": {},
   "source": [
    "**If everything was installed as expected you should now be able to see a list of all the ASTRAL options, as if the program was installed on your own computer!**\n",
    "\n",
    "![astral_installed.png](img/astral_installed.png)"
   ]
  },
  {
   "cell_type": "markdown",
   "id": "acfccb8c-bb1c-400d-9207-63509873368c",
   "metadata": {},
   "source": [
    "## 3. Input Data"
   ]
  },
  {
   "cell_type": "markdown",
   "id": "d4f4627b-341f-4460-abbd-a4c227f870e3",
   "metadata": {},
   "source": [
    "For this tutorial, we will use a subset of a genomic dataset that was originally devised to assess species diversity and relationships among New Guinean Jewel babblers."
   ]
  },
  {
   "cell_type": "markdown",
   "id": "adf606d4-d220-4337-b6fb-4ba7de4b8189",
   "metadata": {},
   "source": [
    "**Chestnut-backed Jewel babbler *(Ptilorrhoa castanota)***\n",
    "\n",
    "![chestnut_jewel_babbler.png](img/chestnut_jewel_babbler.png)"
   ]
  },
  {
   "cell_type": "markdown",
   "id": "1c184720-4c83-4a1a-867b-d8eb5c65048d",
   "metadata": {},
   "source": [
    "The endemic jewel-babblers of New Guinea (genus: Ptilorrhoa) comprise 17 named taxa divided into four recognized species. Together with quail-thrushes (genus: Cinclosoma) they represent one family (Cinclosomatidae) out of 31 Corvides families within passerine birds. The taxonomic division is based on plumage patterns and geographic distributions, which span the lowlands (Ptilorrhoa caerulescens (0−300 m.a.s.l.) and P. geislerorum (0−1200 m.a.s.l.)), lower montane elevations (P. castanonota (900–1450 m.a.s.l.)) and the highlands (P. leucosticta (1750–2400 m.a.s.l.)). Thus, Ptilorrhoa species represent various examples of geographical and elevational displacement across New Guinea. However, much remained still unclear regarding the true species diversity and the phylogenetic relationships between various (sub-)species. To address this issue, [Blom et al. 2025](https://royalsocietypublishing.org/doi/10.1098/rsbl.2024.0611) assembled a draft reference genome for a closely related outgroup and whole-genome resequencing data for a large number of representatives across all named species, sub-species and with a geographic spread that matches the known distribution for each lineage."
   ]
  },
  {
   "cell_type": "markdown",
   "id": "320049b5-92cf-4b5b-b132-8574caacfd76",
   "metadata": {},
   "source": [
    "The average avian genome-size is roughly 1.3 Gb and it would be computationally too challenging to replicate the phylogenetic study in its entirety. To reduce computational complexity, [Blom et al. 2025](https://royalsocietypublishing.org/doi/10.1098/rsbl.2024.0611) did not infer phylogenies based on the entire genome but instead sampled and filtered genomic 'windows' that were each 10kb. in size and sampled at least 100 Kb. apart. This resulted in **8097** autosomal and **614** Z-linked genomic 'windows'. Every genomic window is effectively a chunk of the genome and can include exons, introns, regulatory elements etc. Nonetheless, across large numbers of loci and relatively large window sizes this should not affect our phylogenetic estimate (topology in particular) too much. Here, we analyse a small subset of this dataset, namely 50 autosomal window alignments randomly sampled from Chromosome 1. For each of these genomic windows, we will infer a ML phylogeny and we will aggregate these window trees to then infer a summary-coalescent species tree. Finally, we will introduce a new proxy for assessing confidence in each branch."
   ]
  },
  {
   "cell_type": "markdown",
   "id": "4475bdb7-d0da-432a-b3ea-fc74e6274600",
   "metadata": {},
   "source": [
    "### 3.1 Upload data to Google Colab instance"
   ]
  },
  {
   "cell_type": "markdown",
   "id": "dc05af91-9df0-4f99-8e43-e09f45ceb817",
   "metadata": {},
   "source": [
    "**Data can be uploaded to Google Colab in various ways.** For the sake of the present tutorial just choose one of the options. But now you know, in case you want to run your own data for your project for example."
   ]
  },
  {
   "cell_type": "markdown",
   "id": "4118efba-5ffb-45bc-80a0-18a639a72ab4",
   "metadata": {},
   "source": [
    "#### 1. Direct download from a website link. I have uploaded a compressed folder with all alignments to this Github repository:"
   ]
  },
  {
   "cell_type": "code",
   "execution_count": null,
   "id": "9f9845d2-b101-4f5e-bab4-7dedc5c91f34",
   "metadata": {},
   "outputs": [],
   "source": [
    "# Direct download from website link\n",
    "!wget -cq https://github.com/MozesBlom/tutorials/tree/main/2025_PU_Phylo_Eco_Evol/GTST/data/chr1_filt_random.tar.gz"
   ]
  },
  {
   "cell_type": "markdown",
   "id": "48a3102a-6d8d-48d0-b293-cae595f546e8",
   "metadata": {},
   "source": [
    "#### 2. Download the data to your Google Drive and link your Drive to Google Colab. You can download the data from the same [link](https://github.com/MozesBlom/tutorials/tree/main/2025_PU_Phylo_Eco_Evol/GTST/data/chr1_filt_random.tar.gz), download option the three dots at the top-right of webpage, as used above and then store it in your Google Drive folder."
   ]
  },
  {
   "cell_type": "code",
   "execution_count": null,
   "id": "5ed319d8-0fb9-4691-a941-0e6047671700",
   "metadata": {},
   "outputs": [],
   "source": [
    "# Once you've uploaded the data to Google Drive, link that specific Google Drive folder to the Google Colab instance. This command, creates a hyperlink folder on your Google Colab instance to the most upper directory of your Google Drive folder. \n",
    "from google.colab import drive\n",
    "drive.mount('/content/gdrive')"
   ]
  },
  {
   "cell_type": "code",
   "execution_count": null,
   "id": "1f46d687-75dc-407e-bc7b-7b3d6176e045",
   "metadata": {},
   "outputs": [],
   "source": [
    "# To highlight that you can now access your Google Drive folder\n",
    "!ls \"/content/gdrive/\""
   ]
  },
  {
   "cell_type": "code",
   "execution_count": null,
   "id": "c6b51cde-dddb-4323-bc88-37c0e64fb884",
   "metadata": {},
   "outputs": [],
   "source": [
    "# Now copy the data file to the main directory on your Google colab instance. If for instance you stored it at /gdrive_folder/work/GTST_data/chr1_filt_random.tar.gz. Then use:\n",
    "!cp /gdrive_folder/work/GTST_data/chr1_filt_random.tar.gz \"/content/\""
   ]
  },
  {
   "cell_type": "markdown",
   "id": "e4e12e21-f675-4f3d-9962-cdef5bd183e5",
   "metadata": {},
   "source": [
    "Finally, regardless of how you uploaded the data to your Google Colab instance, you will now need to unpack the .tar.gz file"
   ]
  },
  {
   "cell_type": "code",
   "execution_count": null,
   "id": "ba73cf1a-35fa-4fe8-92ef-9f10fbc55021",
   "metadata": {},
   "outputs": [],
   "source": [
    "!tar -zxvf /content/chr1_filt_random.tar.gz"
   ]
  },
  {
   "cell_type": "code",
   "execution_count": null,
   "id": "8204eb47-fe2e-4f7f-a934-47575bca0e08",
   "metadata": {},
   "outputs": [],
   "source": [
    "# Let's have a look at the contents of the unzipped folder:\n",
    "!ls /content/chr1_filt_random"
   ]
  },
  {
   "cell_type": "markdown",
   "id": "155fd6e4-e330-4b81-a7fe-95040eca71bb",
   "metadata": {},
   "source": [
    "## 4. ML Window Trees"
   ]
  },
  {
   "cell_type": "markdown",
   "id": "b6cacef7-79a4-4213-9c14-13275d8db9d3",
   "metadata": {},
   "source": [
    "**Before you do anything else, go to the next two code blocks and run both of them!** While it is running, you can go to the bathroom, grab a coffee and read the subsequent paragraphs. The next code blocks will probably run for at least 10 mins. or so"
   ]
  },
  {
   "cell_type": "code",
   "execution_count": null,
   "id": "3e0c3363-1844-46f8-877b-b0446d1e3ba8",
   "metadata": {},
   "outputs": [],
   "source": [
    "# Import the os and subprocess python modules\n",
    "import subprocess\n",
    "import os"
   ]
  },
  {
   "cell_type": "code",
   "execution_count": 3,
   "id": "f23922b6-61ba-48f3-b17a-38c90649cbd3",
   "metadata": {},
   "outputs": [],
   "source": [
    "# Use Python to loop over all 50 alignments in the folder and generate the ML Window trees using IQtree3.\n",
    "# NOTE, this command is likely to run for at least 10 mins. or so. Therefore it was recommended above to get started on this right away\n",
    "# You can keep track of the number of ML window trees that have been inferred by guesstimating the number that have been printed as complete to the screen\n",
    "for fn in os.listdir(\"/content/chr1_filt_random/\"):\n",
    "    prefix = fn.split(\".\")[0]\n",
    "    fn_path = os.path.join('/content/chr1_filt_random/' + fn)\n",
    "    result = subprocess.run([\"iqtree3\", \"-s\", fn_path, \"-nt\", \"AUTO\", \"-m\", \"JC\", \"--prefix\", fn], capture_output=True, text=True, check=False)\n",
    "    print(result)"
   ]
  },
  {
   "cell_type": "markdown",
   "id": "0ebac70d-570d-442a-ad57-2bc5439b47f4",
   "metadata": {},
   "source": [
    "So what did we do here? The chr1_filt_random folder contains 50 filtered alignments, each roughly 10Kb in length. We created a *for* loop that iterates over all alignments in the folder, creates a prefix by removing the '.fa' from the filename, specifying the exact location of the file (fn_path) and then using *subprocess.run* to execute iqtree3 from within Python. Note that, to limit our waiting time here, we don't do any model selection and only use the most simplest substitution model (Jukes Cantor). This is most likely incorrect for these alignments, but it would otherwise take around an hour or so to infer the ML tree for each of the alignments."
   ]
  },
  {
   "cell_type": "markdown",
   "id": "980a80c8-1970-4ad1-979a-ea5346cce3c1",
   "metadata": {},
   "source": [
    "**Once ALL 50 window trees have been inferred**, you can proced with the following code blocks"
   ]
  },
  {
   "cell_type": "code",
   "execution_count": null,
   "id": "213f8e3c-dd8a-4c47-9d2a-5496f7989b9a",
   "metadata": {},
   "outputs": [],
   "source": [
    "# Let's have a look at the folder\n",
    "!ls"
   ]
  },
  {
   "cell_type": "markdown",
   "id": "6a09db41-454d-4871-9c17-90105330d468",
   "metadata": {},
   "source": [
    "The folder now contains a huge number of files. 300 to be exact, for every alignment IQtree3 produced 6 files. The ones that we are most interested in are the:\n",
    "1. .log: Run output\n",
    "2. .iqtree: IQ-TREE report\n",
    "3. .treefile: **Maximum-likelihood tree**"
   ]
  },
  {
   "cell_type": "code",
   "execution_count": null,
   "id": "6ae9d14a-1e0c-445e-81a3-95ba117efad4",
   "metadata": {},
   "outputs": [],
   "source": [
    "!cat chr1_RagTag_92010000_92020000_filt_indivs_aln.fa.log"
   ]
  },
  {
   "cell_type": "code",
   "execution_count": null,
   "id": "64d4f570-82b7-471b-b5bd-3a771d4a642f",
   "metadata": {},
   "outputs": [],
   "source": [
    "!cat chr1_RagTag_92010000_92020000_filt_indivs_aln.fa.iqtree"
   ]
  },
  {
   "cell_type": "code",
   "execution_count": null,
   "id": "ddb2b798-f553-4b4c-8431-7d4928277c41",
   "metadata": {},
   "outputs": [],
   "source": [
    "!cat chr1_RagTag_92010000_92020000_filt_indivs_aln.fa.treefile"
   ]
  },
  {
   "cell_type": "markdown",
   "id": "0ed583fa-3afe-41cc-a513-7d371482d97c",
   "metadata": {},
   "source": [
    "**We can double check that 50 phylogenies were inferred by counting the .treefile's and we then need to store all trees into a .trees file**"
   ]
  },
  {
   "cell_type": "code",
   "execution_count": null,
   "id": "d6262adc-802b-4a2e-8ccb-8c0a71c44888",
   "metadata": {},
   "outputs": [],
   "source": [
    "!cat *.treefile > /content/chr1_filt_random_autosomal_windows.trees"
   ]
  },
  {
   "cell_type": "markdown",
   "id": "3c4e2a16-c0bb-4ba4-9dac-9a1d2dfe5d06",
   "metadata": {},
   "source": [
    "## 5. Inferring a Summary-Coalescent Species Tree with ASTRAL and concordance factor annotation"
   ]
  },
  {
   "cell_type": "markdown",
   "id": "ba4aa4da-424e-4a26-ab76-b01e36bd05b6",
   "metadata": {},
   "source": [
    "### 5.1 ASTRAL"
   ]
  },
  {
   "cell_type": "markdown",
   "id": "749e9cb0-60b8-47b4-91c7-a2fd0a9f2f6d",
   "metadata": {},
   "source": [
    "Running a full multi-species coalescent analysis is only feasible in a Bayesian framework. In such cases, both the species tree and gene trees are co-estimated and each have different parameters associated that require evaluation. This is frequently computationally intractable and for large-scale datasets we therefore often resort to a two-step approach where we first estimate gene trees and then infer the species tree based on the frequency distribution of gene trees. This means of course that during this second step we assume that the gene trees inferred are correct (and you now know that inferring phylogenies is not a trivial exercise!). Here we will use such a two-step approach and use the 50 gene trees that we have inferred above to estimate an ASTRAL summary-coalescent phylogeny. I will not dive much deeper into the theory behind summary-coalescent approaches, but see this [review](https://www.nature.com/articles/s41576-020-0233-0) if you would like to know more! The main aim here is to demonstrate how to infer a summary-coalescent phylogeny in practice and how we can annotate uncertainty via gene and site concordance factors."
   ]
  },
  {
   "cell_type": "code",
   "execution_count": null,
   "id": "609fa2e5-393a-4337-bc9c-46177d3f91df",
   "metadata": {},
   "outputs": [],
   "source": [
    "# Above we have gathered all window trees in a single file\n",
    "# Run Astral on the aggregate of window trees to infer the summary coalescent species tree\n",
    "!astral -i /content/chr1_filt_random_autosomal_windows.trees -o /content/chr1_filt_random_autosomal_windows_ASTRAL.tree"
   ]
  },
  {
   "cell_type": "code",
   "execution_count": null,
   "id": "0ac2ee12-f3bc-41e4-a916-4d35a3b0fd83",
   "metadata": {},
   "outputs": [],
   "source": [
    "## Import the Phylo class of biopython and visualise the phylogeny\n",
    "from Bio import Phylo\n",
    "import matplotlib.pyplot as plt\n",
    "tree = Phylo.read(\"/content/chr1_filt_random_autosomal_windows_ASTRAL.tree\", \"newick\")\n",
    "fig, ax = plt.subplots(figsize=(10, 6))  # Adjust the size as needed\n",
    "ax.spines['right'].set_visible(False)\n",
    "ax.spines['top'].set_visible(False)\n",
    "Phylo.draw(tree, axes=ax)\n",
    "plt.show()"
   ]
  },
  {
   "cell_type": "markdown",
   "id": "e48575cf-7cf2-4afe-a789-e0d30607764e",
   "metadata": {},
   "source": [
    "ASTRAL has generated the phylogeny that is statistically concordant with a full-coalescent Bayesian species tree approach. It has taken the underlying distribution of gene trees and summarized that into a species tree. You may have noticed that ASTRAL ran incredibly fast and this is because it's only estimating the species tree topology, it doesn't do anything in terms of phylogenetic inference of the gene trees (e.g. likelihood calculations etc.). However, the support annotation is a bit confusing and what we really would like to know is how many of the underlying window trees support any given relationship in the Species Tree. We can do this with Gene concordance factors in IQtree3. Gene concordance factors are basically conveying the number of genes/window trees support a given relationship across the tree. Here is some further information with regards to gCF: [link](https://iqtree.github.io/doc/Concordance-Factor#putting-it-all-together)"
   ]
  },
  {
   "cell_type": "code",
   "execution_count": null,
   "id": "dfce3d0b-4ae5-4a7d-b675-c22ac99e95d3",
   "metadata": {},
   "outputs": [],
   "source": [
    "## Use IQtree3 to calculate the gene concordance factors on the Summary-Coalescent phylogeny\n",
    "!iqtree3 -te /content/chr1_filt_random_autosomal_windows_ASTRAL.tree --gcf /content/chr1_filt_random_autosomal_windows.trees --prefix chr1_filt_random_autosomal_windows_ASTRAL_gCF.tree"
   ]
  },
  {
   "cell_type": "code",
   "execution_count": null,
   "id": "b65d14b8-27f9-4945-8738-67a586e2792b",
   "metadata": {},
   "outputs": [],
   "source": [
    "## Let's see what IQtree3 generated:\n",
    "!ls chr1_filt_random_autosomal_windows_ASTRAL_gCF.tree.cf*"
   ]
  },
  {
   "cell_type": "code",
   "execution_count": null,
   "id": "11cf30cf-bff7-44b6-9ded-a94127c7fb3c",
   "metadata": {},
   "outputs": [],
   "source": [
    "!cat chr1_filt_random_autosomal_windows_ASTRAL_gCF.tree.cf.stat"
   ]
  },
  {
   "cell_type": "code",
   "execution_count": null,
   "id": "7bae09e5-7c08-4e96-a778-2f8f8aa4c94d",
   "metadata": {},
   "outputs": [],
   "source": [
    "## Let's download this annotated tree from the Google colab instance\n",
    "from google.colab import files\n",
    "files.download('/content/chr1_filt_random_autosomal_windows_ASTRAL_gCF.tree.cf.stat') "
   ]
  },
  {
   "cell_type": "markdown",
   "id": "ed4c0317-169c-40fc-a49e-10f73d4d0a96",
   "metadata": {},
   "source": [
    "What did we do here? We took the file with all the 50 window trees that we inferred and asked IQtree3 to summarise how frequently we see the same relationships supported as in the ASTRAL tree.\n",
    "\n",
    "**Question a):** How do the gene-concordance factors correlate with the internal branch lengths of the summary-coalescent species tree?\n",
    "\n",
    "**Question b):** How does your tree compare to the phylogeny in the [paper](https://royalsocietypublishing.org/doi/10.1098/rsbl.2024.0611#d1e705)?"
   ]
  }
 ],
 "metadata": {
  "kernelspec": {
   "display_name": "Python 3 (ipykernel)",
   "language": "python",
   "name": "python3"
  },
  "language_info": {
   "codemirror_mode": {
    "name": "ipython",
    "version": 3
   },
   "file_extension": ".py",
   "mimetype": "text/x-python",
   "name": "python",
   "nbconvert_exporter": "python",
   "pygments_lexer": "ipython3",
   "version": "3.12.11"
  }
 },
 "nbformat": 4,
 "nbformat_minor": 5
}
