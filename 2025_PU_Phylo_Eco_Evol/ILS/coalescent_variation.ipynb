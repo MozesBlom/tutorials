{
 "cells": [
  {
   "cell_type": "markdown",
   "id": "4dd07720-2528-4867-be04-4c8f88f46465",
   "metadata": {
    "tags": []
   },
   "source": [
    "# Tutorial: Exploring coalescent variation across the genome"
   ]
  },
  {
   "cell_type": "markdown",
   "id": "4eb50432-bc54-4e70-ac2f-23720ba38928",
   "metadata": {},
   "source": [
    "## 1. Introduction"
   ]
  },
  {
   "cell_type": "markdown",
   "id": "ff8b1d4d-d92e-4549-a34c-f00fc6ae74a4",
   "metadata": {},
   "source": [
    "**1.1 Background**\n",
    "\n",
    "With the increasing ease to generate large-scale genomic datasets, our ability to retrace evolutionary history based on DNA sequences has never been more profound. Traditional phylogenetic studies relied on one or a few molecular markers, but it is now becoming commonplace to survey phylogenetic patterns across 100s to 1000s of genetic loci. Nearing a genome-wide view on evolutionary history has major consequences for the field of phylogenetics since phylogenetic history often varies across the genome. In other words, a phylogenetic tree in one region of the genome may vary substantially in topology from a phylogenetic tree based on genetic data from a different region of the genome. A major objective in evolutionary and phylogenetic research is to understand the processes that lead to such discordance and to distinguish between neutral and non-neutral evolutionary dynamics."
   ]
  },
  {
   "cell_type": "markdown",
   "id": "a1279bba-10a6-4443-8f3a-7262fed2205f",
   "metadata": {},
   "source": [
    "**Empirical example demonstrating how the frequency of competing phylogenies can vary across chromosomes and between chromosomes (e.g. sex vs. autosomes)**\n",
    "\n",
    "![example.png](img/example.png)"
   ]
  },
  {
   "cell_type": "markdown",
   "id": "06d4e4c6-c8cd-4a5a-980d-8c74a2fa4f7b",
   "metadata": {},
   "source": [
    "Coalescent theory presents a population genetic framework that can describe the expected differences in inheritance patterns between genomic loci based on neutral processes alone. Coalescent models aim to describe the probability that any two individuals in a population(s) share a common ancestor at a given time in the past and can easily be extended to multiple populations/species. Explicit demographic parameters, which we will explore in detail, change the probability of a coalescent event (i.e. two individuals share a common ancestor in the previous generation). Coalescent models can therefore be leveraged to generate null-models under neutral evolution and can be compared to empirical observations (i.e. phylogenomic data). In this computer practical, we use a coalescent based simulator to simulate tree sequences across a genomic region and demonstrate how the expected variation in coalescent histories change depending on several demographic properties.\n",
    "\n",
    "**1.2 Practical overview**\n",
    "\n",
    "This computer practical is styled in a Jupyter Notebook (NB) format (see Github [README](https://github.com/MozesBlom/tutorials/tree/main/2023_Phy_Eco_Evol) for more details). In short, Jupyter NBs contain either text cells (such as the current cell) in Markdown format or code cells (frequently) in Python3 format. The aim of this practical is not to provide an exhaustive introduction into Python/Markdown/Jupyter, but to provide an introduction into phylogenomic inference, how to account for genome wide variation in inheritance histories (coalescent variation) and what may cause such variation. Therefore, all code to run this practical is already in place and we will only make minor changes to the code itself to demonstrate the phylogenetic consequences of changing specific model parameters.\n",
    "\n",
    "**1.3 Requirements**\n",
    "\n",
    "To run this practical, the following Python modules are needed:\n",
    "* Python 3+\n",
    "    * [msprime](https://msprime.readthedocs.io/en/stable/)"
   ]
  },
  {
   "cell_type": "markdown",
   "id": "f620aac8-1d76-4b53-a2a4-5f658500a12f",
   "metadata": {},
   "source": [
    "## 2. Getting Started"
   ]
  },
  {
   "cell_type": "markdown",
   "id": "00a8f65e-c2fd-4bd5-a2a3-8e0ff17ba3ae",
   "metadata": {},
   "source": [
    "**2.1 Importing modules**\n",
    "\n",
    "The Python modules mentioned under *1.3 Requirements* first need to be imported before proceeding with the rest of the NB. If running on a Google Colab instance (see [Github](https://github.com/MozesBlom/tutorials/tree/main/2023_Phy_Eco_Evol) for further details) modules will always need to be installed. If running on your personal desktop, in JupyterLab for example, then this may not be needed if a conda environment is already loaded and [selected](https://github.com/jupyterlab/jupyterlab-desktop/blob/master/user-guide.md) with the correct modules installed. NOTE, if you go the latter route then make sure that JupyterLab itself and all dependencies are installed in the relevant Conda environment. Otherwise, the environment will not pop up in the JupyterLab Desktop environment list and cannot be selected. In all other user cases, first proceed with downloading the required Python modules:"
   ]
  },
  {
   "cell_type": "code",
   "execution_count": null,
   "id": "a723a051-1d2e-4e86-a18a-78403bf47743",
   "metadata": {},
   "outputs": [],
   "source": [
    "# Download the necessary Python modules. If already present in Conda environment, then skip this step\n",
    "%pip install msprime "
   ]
  },
  {
   "cell_type": "code",
   "execution_count": null,
   "id": "b80e0dd9-71de-4539-8501-2b8f4fd9aaeb",
   "metadata": {
    "tags": []
   },
   "outputs": [],
   "source": [
    "# Import the modules\n",
    "import msprime\n",
    "from IPython.display import SVG"
   ]
  },
  {
   "cell_type": "markdown",
   "id": "ddbfb284-7ab1-40ab-a58d-8e602e19257d",
   "metadata": {},
   "source": [
    "## 3. Simulating ancestry with msprime\n",
    "\n",
    "msprime is a backward-in-time coalescent simulator that can be used to simulate trees and sequences under explicit demographic scenarios. It computes the probability that any two individuals, their haplotypes to be precise, share a common ancestor at a given time in the past. In a single population, under neutral circumstances, this is primarily determined by effective population size. Between populations, the probability of coalescence is further determined by the rate of migration between populations and the time of divergence. While used in a population context, the same principles are relevant when thinking about phylogenetic history between species and is therefore a suitable exercise to explore the determinants of coalescent variation across genomes."
   ]
  },
  {
   "cell_type": "markdown",
   "id": "3a3c6210-0e21-48c3-b597-a97109ad4e23",
   "metadata": {},
   "source": [
    "### 3.1 The Tree Sequence class"
   ]
  },
  {
   "cell_type": "code",
   "execution_count": null,
   "id": "340f031d-11e1-430d-8deb-377b6693a57e",
   "metadata": {
    "tags": []
   },
   "outputs": [],
   "source": [
    "# Let's run a simple simulation using msprime\n",
    "ts = msprime.sim_ancestry(samples=2, random_seed=1)\n",
    "SVG(ts.draw_svg())"
   ]
  },
  {
   "cell_type": "markdown",
   "id": "d4155c15-52c9-4bcc-b70e-af10d6375422",
   "metadata": {},
   "source": [
    "**QUESTION**: We specified to run a simulation with 2 individuals, why does the resulting phylogeny/tree include four tips?\n",
    "\n",
    "**ANSWER**: .."
   ]
  },
  {
   "cell_type": "code",
   "execution_count": null,
   "id": "4c56d2bc-59a8-4b9e-ac1d-0a857ca34ce3",
   "metadata": {},
   "outputs": [],
   "source": [
    "# Let's first dive deeper into the tree sequence that msprime generated\n",
    "ts"
   ]
  },
  {
   "cell_type": "markdown",
   "id": "38496250-2bcd-44db-a868-e5cf03099db2",
   "metadata": {},
   "source": [
    "msprime didn't simply generate an image of a phylogeny, but instead produced a summary of the demographic simulation which in this case describes a single phylogeny and all associated meta-information. For example, the number of individuals (`Individuals`), branches (`edges`), migration events (`Migrations`) etc. Importantly note that in this specific model, we simulated a tree sequence for a single site (`Sequence Length` = 1) only. `Sequence Length` can be interpreted as the number of continuous basepairs on a single contig or chromosome. Let's run a simulation for a longer sequence, say 10000 base pairs (bp)."
   ]
  },
  {
   "cell_type": "code",
   "execution_count": null,
   "id": "1a0514ce-fd20-42b2-b55a-1b08d6d5f3ba",
   "metadata": {},
   "outputs": [],
   "source": [
    "ts = msprime.sim_ancestry(\n",
    "                samples=2,\n",
    "                random_seed=1,\n",
    "                sequence_length=10000)\n",
    "SVG(ts.draw_svg())"
   ]
  },
  {
   "cell_type": "code",
   "execution_count": null,
   "id": "e0cde6c3-d42c-43e9-bdf4-583be6677fa5",
   "metadata": {},
   "outputs": [],
   "source": [
    "ts"
   ]
  },
  {
   "cell_type": "markdown",
   "id": "6ae33248-31b1-4e44-90fb-e22e764ab1c7",
   "metadata": {},
   "source": [
    "Besides the `Sequence Length` nothing really changed. In example, we still only see one tree and the topology is exactly the same. This is because we haven't simulated any recombination events yet. **Without recombination, the evolutionary history of a genomic stretch will always be identical and we therefore do not expect any different coalescent history along a genomic sequence**! Recombination can be included in our simulation by specifying a `recombination_rate`: The probability of a recombination event per genomic unit (bp) per generation."
   ]
  },
  {
   "cell_type": "code",
   "execution_count": null,
   "id": "fcc1d531-50a3-4a1f-b0fb-0895ca164cfb",
   "metadata": {},
   "outputs": [],
   "source": [
    "ts = msprime.sim_ancestry(\n",
    "                samples=2,\n",
    "                random_seed=1,\n",
    "                sequence_length=10000,\n",
    "                recombination_rate = 1e-4)\n",
    "SVG(ts.draw_svg())"
   ]
  },
  {
   "cell_type": "markdown",
   "id": "79e79c07-8ebb-4d1d-a0df-5e6f86b3d05b",
   "metadata": {},
   "source": [
    "This is already more biologically meaningful: Recombination has introduced breakpoints along a chromosome and the coalescent history on each side of the breakpoint is different. Note, as you can see that does not always mean that the topology (order of diversification) changes. In some instances only the tree height, the time to the most recent common ancestor differs (which may be difficult to see in some trees). Now let's have another look at the `Tree Sequence` python class:"
   ]
  },
  {
   "cell_type": "code",
   "execution_count": null,
   "id": "1f8e3653-1d7a-4158-b776-3095ff8c1d5f",
   "metadata": {},
   "outputs": [],
   "source": [
    "ts"
   ]
  },
  {
   "cell_type": "markdown",
   "id": "3fb7f436-96a8-4a6d-90bb-ce5ab669b617",
   "metadata": {},
   "source": [
    "By invoking recombination, the number of `Trees`, `Edges`, `Nodes` all have changed but all this information is still captured in a single `Tree Sequence` class. The `Tree Sequence` class is a helpful Python recipe to greatly reduce the computational footprint when studying phylogenies. In example, consider that we only simulated a 10000 bp. sequence here, but many genomes tend to be billions of bp. in size and studies can now include 1000s of individuals! The `Tree Sequence` class doesn't store every single phylogeny at any given site in a chromosome, but instead notes the (recombination) break points along a sequence where trees differ and only records the branches in the phylogeny that differ between break points and the differences in node heights.\n",
    "\n",
    "However, besides the computational advantages of using the `Tree Sequence` class, there's also an important biological interpretation here as well. Evolutionary history along a chromosome, coalescent history, only varies between sites if a **recombination** event has occurred. Otherwise adjacent sites in a given sequence will share the same evolutionary history. Most phylogenetic methods are designed to reconstruct a single evolutionary history for a given sequence alignment and thus assume that this segment is free from recombination."
   ]
  },
  {
   "cell_type": "markdown",
   "id": "12f45f3c-a047-46cb-ba4b-0f4f6a3df8f7",
   "metadata": {},
   "source": [
    "**EXERCISE**: Explore the role of recombination for modeling coalescent variation by changing the frequency of recombination in the code below. What happens when you increase the frequency and what happens if you decrease the frequency?\n",
    "\n",
    "**ANSWER**: ..."
   ]
  },
  {
   "cell_type": "code",
   "execution_count": null,
   "id": "2f02d753-cfda-4de7-b67c-cb5d6d5bbc7f",
   "metadata": {},
   "outputs": [],
   "source": [
    "ts = msprime.sim_ancestry(\n",
    "                samples=2,\n",
    "                random_seed=1,\n",
    "                sequence_length=10000,\n",
    "                recombination_rate = 1e-4)\n",
    "\n",
    "print(\"The total number of trees simulated by changing the recombination frequency: \" + str(ts.num_trees))"
   ]
  },
  {
   "cell_type": "markdown",
   "id": "d6d0a9db-3f7b-4533-a410-a522b0f82d7f",
   "metadata": {},
   "source": [
    "### 3.2 Effective population size"
   ]
  },
  {
   "cell_type": "markdown",
   "id": "e354a37a-268c-4bf3-be84-ba3f1e08a80d",
   "metadata": {},
   "source": [
    "In the first section, we simulated the coalescent history for two individuals in a single population of a constant size. However, as mentioned before, population size is one of the major determinants that changes the probability of coalescence. Consider the following:\n",
    "\n",
    "Assume an isolated island population of constant size (100 individuals) with random mating: What is the probability that two individuals share a common ancestor in the previous generation? What if it is a much bigger island with a larger constant population size over time (n = 1000)?\n",
    "\n",
    "Let's explore how differences in (effective) population size influence our coalescent history using msprime"
   ]
  },
  {
   "cell_type": "code",
   "execution_count": null,
   "id": "88f44ec3-0a72-4587-82fa-d70993ecb5ea",
   "metadata": {},
   "outputs": [],
   "source": [
    "# Let's run two simulations and only vary Ne using a new parameter\n",
    "ts1 = msprime.sim_ancestry(\n",
    "                samples=2,\n",
    "                random_seed=1,\n",
    "                sequence_length=10000,\n",
    "                population_size=10,\n",
    "                recombination_rate = 1e-5)\n",
    "\n",
    "ts2 = msprime.sim_ancestry(\n",
    "                samples=2,\n",
    "                random_seed=1,\n",
    "                sequence_length=10000,\n",
    "                population_size=100,\n",
    "                recombination_rate = 1e-5)"
   ]
  },
  {
   "cell_type": "code",
   "execution_count": null,
   "id": "db65ab35-89fb-4f42-97da-11692b847ab4",
   "metadata": {},
   "outputs": [],
   "source": [
    "SVG(ts1.draw_svg())"
   ]
  },
  {
   "cell_type": "code",
   "execution_count": null,
   "id": "44919168-fa57-4921-8aa1-e0dafc8ccf00",
   "metadata": {},
   "outputs": [],
   "source": [
    "SVG(ts2.draw_svg())"
   ]
  },
  {
   "cell_type": "markdown",
   "id": "9e401c99-e594-4391-ade6-b84b646b2bb2",
   "metadata": {},
   "source": [
    "Comparing the trees between both simulations isn't straightforward because the scale on the y-axis isn't the same. When invoking the `population_size` argument the branch lengths are automatically scaled to units of generations. We can then compare the differences in coalescent times by looking at the first tree for example."
   ]
  },
  {
   "cell_type": "code",
   "execution_count": null,
   "id": "6bb9d103-6bf9-4e53-887a-b4dd4dcdc81b",
   "metadata": {},
   "outputs": [],
   "source": [
    "tree1 = ts1.first()\n",
    "print(\"Total branch length:\", tree1.total_branch_length)\n",
    "print(\"Time at root:\", ts1.tables.nodes.time[tree1.root])"
   ]
  },
  {
   "cell_type": "code",
   "execution_count": null,
   "id": "b21cf772-cd99-42ba-8c64-60211a83e6c2",
   "metadata": {},
   "outputs": [],
   "source": [
    "tree2 = ts2.first()\n",
    "print(\"Total branch length:\", tree2.total_branch_length)\n",
    "print(\"Time at root:\", ts2.tables.nodes.time[tree2.root])"
   ]
  },
  {
   "cell_type": "markdown",
   "id": "236fd9af-c8cc-45cd-be9e-df80e1a74609",
   "metadata": {},
   "source": [
    "**QUESTION**: What has happened? Under what circumstances do you expect a longer wait time until the Most Recent Common Ancestor of all individuals?\n",
    "\n",
    "**ANSWER**: ..."
   ]
  },
  {
   "cell_type": "markdown",
   "id": "4759f3a0-73fb-4609-ba2d-8a5ceb521179",
   "metadata": {},
   "source": [
    "### 3.3 A multi-population/species model"
   ]
  },
  {
   "cell_type": "markdown",
   "id": "3edde1d4-f4b5-4f98-bb02-e42d68e631cb",
   "metadata": {},
   "source": [
    "Up till now, we have only modeled coalescent variation across a chromosome within a single population/species. We have seen that phylogenies can vary in both divergence times and topology, under neutral circumstances. However, when employing phylogenetic approaches, we are often interested in describing the relationship between species. We can establish similar models using msprime and use this to demonstrate how gene trees (a phylogeny for a given gene or genomic region) can differ from the underlying species tree."
   ]
  },
  {
   "cell_type": "markdown",
   "id": "af216c80-65d9-47e1-ad16-03d9bf4315e9",
   "metadata": {},
   "source": [
    "To run a multi-population model in msprime, we first need to describe the demographic model. Let's simulate the following:\n",
    "\n",
    "- 4 species\n",
    "- 2 individuals for each species\n",
    "- constant population size over time\n",
    "- no migration/gene flow between species\n",
    "- equal divergence time between major splits"
   ]
  },
  {
   "cell_type": "code",
   "execution_count": null,
   "id": "b4e9a179-6b3c-40ad-a86e-fa0369478445",
   "metadata": {},
   "outputs": [],
   "source": [
    "# To do so in msprime, we need to describe a demography object which then can be passed to `sim_ancestry`\n",
    "Ne = 100\n",
    "dem = msprime.Demography()\n",
    "dem.add_population(name=\"human\", initial_size=Ne)\n",
    "dem.add_population(name=\"chimp\", initial_size=Ne)\n",
    "dem.add_population(name=\"gorilla\", initial_size=Ne)\n",
    "dem.add_population(name=\"mouse\", initial_size=Ne)\n",
    "\n",
    "# Table with basic demography model of extant species\n",
    "dem"
   ]
  },
  {
   "cell_type": "markdown",
   "id": "d4fbb3e6-05c6-4895-a13c-7d5b3ba196df",
   "metadata": {},
   "source": [
    "What we have created is a demographic model of the extant species. Running a simulation on this would run forever, since the simulation only stops when ALL individuals across all species have coalesced. In this model, this would never be the case because there would be no coalescent events between species. So let's specify the divergence times and ancestral populations:"
   ]
  },
  {
   "cell_type": "code",
   "execution_count": null,
   "id": "50228496-2d48-4653-92f9-033f4bad4b23",
   "metadata": {},
   "outputs": [],
   "source": [
    "# Add ancestral populations and the divergence times when they split off\n",
    "div_t = 1000\n",
    "dem.add_population(name=\"AncestralPopulation1\", initial_size=Ne)\n",
    "dem.add_population_split(time=div_t, derived=[\"human\",\"chimp\"], ancestral=\"AncestralPopulation1\")\n",
    "dem.add_population(name=\"AncestralPopulation2\", initial_size=Ne)\n",
    "dem.add_population_split(time=div_t*2, derived=[\"AncestralPopulation1\",\"gorilla\"], ancestral=\"AncestralPopulation2\")\n",
    "dem.add_population(name=\"AncestralPopulation3\", initial_size=Ne)\n",
    "dem.add_population_split(time=div_t*3, derived=[\"AncestralPopulation2\",\"mouse\"], ancestral=\"AncestralPopulation3\")\n",
    "dem"
   ]
  },
  {
   "cell_type": "markdown",
   "id": "dbddf46a-96ac-4ed7-9809-bb1cc90bd338",
   "metadata": {},
   "source": [
    "Note that the ancestral populations have now been included and we added three events: Each corresponding to a divergence time.\n",
    "\n",
    "We can now create a simulation for this specific demographic model. Let's first simulate for a single tree"
   ]
  },
  {
   "cell_type": "code",
   "execution_count": null,
   "id": "aca2d6bb-abea-44b0-993b-7fecef22c3fc",
   "metadata": {},
   "outputs": [],
   "source": [
    "sample_size = 2\n",
    "\n",
    "ts = msprime.sim_ancestry(\n",
    "                samples={\"human\" : sample_size, \"chimp\" : sample_size, \"gorilla\" : sample_size, \"mouse\" : sample_size, \"AncestralPopulation1\" : 0, \"AncestralPopulation2\" : 0, \"AncestralPopulation3\" : 0},\n",
    "                demography=dem,\n",
    "                random_seed=1)\n",
    "display(SVG(ts.first().draw(width=500, height=400)))"
   ]
  },
  {
   "cell_type": "markdown",
   "id": "8488b5bf-7a6f-4c35-a365-c0d09440601d",
   "metadata": {},
   "source": [
    "Since we are now working with a larger number of species and individuals, the phylogeny has expanded but it's not informative with regards to which tip belongs to which species. However, since we are working with species, there is now a new population/species column which can be used to colour the nodes by species"
   ]
  },
  {
   "cell_type": "code",
   "execution_count": null,
   "id": "1d6c501c-d81c-481b-826f-352c3592c9ea",
   "metadata": {},
   "outputs": [],
   "source": [
    "colour_map = {0:\"red\", 1:\"blue\", 2:\"green\", 3:\"orange\", 4:\"purple\", 5:\"black\", 6:\"yellow\", 7:\"pink\", 8:\"brown\", 9:\"gray\"}\n",
    "node_colours = {u.id: colour_map[u.population] for u in ts.nodes()}\n",
    "# The code below will only work in a Jupyter notebook with SVG output enabled.\n",
    "display(SVG(ts.first().draw(node_colours=node_colours, width=500, height=400)))"
   ]
  },
  {
   "cell_type": "markdown",
   "id": "3b2af113-ba49-4319-9194-1ff67470f97f",
   "metadata": {},
   "source": [
    "Under the present model specifications, we have simulated a single phylogeny where we sampled two individuals per species and reconstructed the coalescent history of a single locus. In this simulation, all haplotypes belonging to the same species (coloured nodes here) share a MRCA and the gene tree will be identical to the species tree. However, we have already seen that effective population size has a strong effect on the probability that two haplotypes share a common ancestor in the previous generation and here we will demonstrate that this can lead to mismatches between gene and species tree."
   ]
  },
  {
   "cell_type": "markdown",
   "id": "02388f4b-8fa3-4400-a00a-57ee2094002c",
   "metadata": {},
   "source": [
    "**EXERCISE**: Increase the effective population size in the following model and simulate ancestry. Try a few values, what happens?\n",
    "\n",
    "**ANSWER**: ..."
   ]
  },
  {
   "cell_type": "code",
   "execution_count": null,
   "id": "3034b493-0163-496b-b249-61c02dd4d24f",
   "metadata": {},
   "outputs": [],
   "source": [
    "# Model parameters\n",
    "Ne = 10000\n",
    "div_t = 1000\n",
    "sample_size = 2\n",
    "\n",
    "# ------------------ #\n",
    "\n",
    "dem = msprime.Demography()\n",
    "dem.add_population(name=\"human\", initial_size=Ne)\n",
    "dem.add_population(name=\"chimp\", initial_size=Ne)\n",
    "dem.add_population(name=\"gorilla\", initial_size=Ne)\n",
    "dem.add_population(name=\"mouse\", initial_size=Ne)\n",
    "\n",
    "dem.add_population(name=\"AncestralPopulation1\", initial_size=Ne)\n",
    "dem.add_population_split(time=div_t, derived=[\"human\",\"chimp\"], ancestral=\"AncestralPopulation1\")\n",
    "dem.add_population(name=\"AncestralPopulation2\", initial_size=Ne)\n",
    "dem.add_population_split(time=div_t*2, derived=[\"AncestralPopulation1\",\"gorilla\"], ancestral=\"AncestralPopulation2\")\n",
    "dem.add_population(name=\"AncestralPopulation3\", initial_size=Ne)\n",
    "dem.add_population_split(time=div_t*3, derived=[\"AncestralPopulation2\",\"mouse\"], ancestral=\"AncestralPopulation3\")\n",
    "\n",
    "ts = msprime.sim_ancestry(\n",
    "                samples={\"human\" : sample_size, \"chimp\" : sample_size, \"gorilla\" : sample_size, \"mouse\" : sample_size, \"AncestralPopulation1\" : 0, \"AncestralPopulation2\" : 0, \"AncestralPopulation3\" : 0},\n",
    "                demography=dem,\n",
    "                random_seed=1)\n",
    "\n",
    "colour_map = {0:\"red\", 1:\"blue\", 2:\"green\", 3:\"orange\", 4:\"purple\", 5:\"black\", 6:\"yellow\", 7:\"pink\", 8:\"brown\", 9:\"gray\"}\n",
    "node_colours = {u.id: colour_map[u.population] for u in ts.nodes()}\n",
    "# The code below will only work in a Jupyter notebook with SVG output enabled.\n",
    "display(SVG(ts.first().draw(node_colours=node_colours, width=500, height=400)))"
   ]
  },
  {
   "cell_type": "markdown",
   "id": "24fda54c-de16-4446-9d96-0bb5b2a7fb9f",
   "metadata": {},
   "source": [
    "The process you have simulated above is commonly known as **deep coalescence** or **incomplete lineage sorting** (ILS). In such cases, gene trees will not follow the species tree and a coalescence event between two haplotypes of the same species predates a species split. In the above example, you have only changed the effective population size but the probability of ILS also depends on other parameters. **Question**: How could we change the model above, without changing the effective population size parameter, so that all haplotypes belonging to the same species share a MRCA?"
   ]
  },
  {
   "cell_type": "code",
   "execution_count": null,
   "id": "41edd798-71e5-4c50-8320-aeb210bb5405",
   "metadata": {},
   "outputs": [],
   "source": [
    "# Model parameters\n",
    "Ne = 10000\n",
    "div_t = 1000\n",
    "sample_size = 2\n",
    "\n",
    "# ------------------ #\n",
    "\n",
    "dem = msprime.Demography()\n",
    "dem.add_population(name=\"human\", initial_size=Ne)\n",
    "dem.add_population(name=\"chimp\", initial_size=Ne)\n",
    "dem.add_population(name=\"gorilla\", initial_size=Ne)\n",
    "dem.add_population(name=\"mouse\", initial_size=Ne)\n",
    "\n",
    "dem.add_population(name=\"AncestralPopulation1\", initial_size=Ne)\n",
    "dem.add_population_split(time=div_t, derived=[\"human\",\"chimp\"], ancestral=\"AncestralPopulation1\")\n",
    "dem.add_population(name=\"AncestralPopulation2\", initial_size=Ne)\n",
    "dem.add_population_split(time=div_t*2, derived=[\"AncestralPopulation1\",\"gorilla\"], ancestral=\"AncestralPopulation2\")\n",
    "dem.add_population(name=\"AncestralPopulation3\", initial_size=Ne)\n",
    "dem.add_population_split(time=div_t*3, derived=[\"AncestralPopulation2\",\"mouse\"], ancestral=\"AncestralPopulation3\")\n",
    "\n",
    "ts = msprime.sim_ancestry(\n",
    "                samples={\"human\" : sample_size, \"chimp\" : sample_size, \"gorilla\" : sample_size, \"mouse\" : sample_size, \"AncestralPopulation1\" : 0, \"AncestralPopulation2\" : 0, \"AncestralPopulation3\" : 0},\n",
    "                demography=dem,\n",
    "                random_seed=1)\n",
    "\n",
    "colour_map = {0:\"red\", 1:\"blue\", 2:\"green\", 3:\"orange\", 4:\"purple\", 5:\"black\", 6:\"yellow\", 7:\"pink\", 8:\"brown\", 9:\"gray\"}\n",
    "node_colours = {u.id: colour_map[u.population] for u in ts.nodes()}\n",
    "# The code below will only work in a Jupyter notebook with SVG output enabled.\n",
    "display(SVG(ts.first().draw(node_colours=node_colours, width=500, height=400)))"
   ]
  },
  {
   "cell_type": "markdown",
   "id": "cbeef140-4e34-43b6-bf7e-9d0e01603961",
   "metadata": {},
   "source": [
    "Up till now we have simulated a single phylogeny only because we excluded the recombination parameter. Let's include recombination and investigate how coalescence histories can vary across a chromosome. To simplify the simulation time, we reduce the effective population size and divergence time. "
   ]
  },
  {
   "cell_type": "code",
   "execution_count": null,
   "id": "bef096a0-4633-40a6-90b7-8f28cb6c57ff",
   "metadata": {},
   "outputs": [],
   "source": [
    "# Model parameters\n",
    "Ne = 10\n",
    "div_t = 10\n",
    "sample_size = 1\n",
    "\n",
    "# ------------------ #\n",
    "\n",
    "dem = msprime.Demography()\n",
    "dem.add_population(name=\"human\", initial_size=Ne)\n",
    "dem.add_population(name=\"chimp\", initial_size=Ne)\n",
    "dem.add_population(name=\"gorilla\", initial_size=Ne)\n",
    "dem.add_population(name=\"mouse\", initial_size=Ne)\n",
    "\n",
    "dem.add_population(name=\"AncestralPopulation1\", initial_size=Ne)\n",
    "dem.add_population_split(time=div_t, derived=[\"human\",\"chimp\"], ancestral=\"AncestralPopulation1\")\n",
    "dem.add_population(name=\"AncestralPopulation2\", initial_size=Ne)\n",
    "dem.add_population_split(time=div_t*2, derived=[\"AncestralPopulation1\",\"gorilla\"], ancestral=\"AncestralPopulation2\")\n",
    "dem.add_population(name=\"AncestralPopulation3\", initial_size=Ne)\n",
    "dem.add_population_split(time=div_t*3, derived=[\"AncestralPopulation2\",\"mouse\"], ancestral=\"AncestralPopulation3\")\n",
    "\n",
    "ts = msprime.sim_ancestry(\n",
    "                samples={\"human\" : sample_size, \"chimp\" : sample_size, \"gorilla\" : sample_size, \"mouse\" : sample_size, \"AncestralPopulation1\" : 0, \"AncestralPopulation2\" : 0, \"AncestralPopulation3\" : 0},\n",
    "                demography=dem,\n",
    "                sequence_length=10000,\n",
    "                recombination_rate = 1e-4,\n",
    "                random_seed=1)\n",
    "\n",
    "colour_map = {0:\"red\", 1:\"blue\", 2:\"green\", 3:\"orange\", 4:\"purple\", 5:\"black\", 6:\"yellow\", 7:\"pink\", 8:\"brown\", 9:\"gray\"}\n",
    "node_colours = {u.id: colour_map[u.population] for u in ts.nodes()}\n",
    "# The code below will only work in a Jupyter notebook with SVG output enabled.\n",
    "SVG(ts.draw_svg())"
   ]
  },
  {
   "cell_type": "code",
   "execution_count": null,
   "id": "f76e03c2-fbc4-4576-8805-ee907de1e2ce",
   "metadata": {},
   "outputs": [],
   "source": [
    "# If you want to look at the first tree only, coloured by species association:\n",
    "display(SVG(ts.first().draw(node_colours=node_colours, width=500, height=400)))"
   ]
  },
  {
   "cell_type": "markdown",
   "id": "cb6e32c1-d9b2-4866-a912-3373d703c81d",
   "metadata": {},
   "source": [
    "**SUMMARY**: With the above simulations, we have demonstrated that effective population size and divergence time are important determinants that predict the probability of incomplete lineage sorting and that this can vary across a chromosome since recombination leads to distinct units that can have a different evolutionary history: Even under neutral circumstances (i.e. without selection, introgression, etc.). Modern day phylogenomic studies need to account for this variation in coalescent history and determine what processes have led to this discordance. For example, have a look at the distribution of topologies in the empirical example introduced above:\n",
    "\n",
    "**Empirical example demonstrating how the frequency of competing phylogenies can vary across chromosomes and between chromosomes (e.g. sex vs. autosomes)**\n",
    "\n",
    "![example.png](img/example.png)"
   ]
  },
  {
   "cell_type": "markdown",
   "id": "201babf8-bead-4d71-8b28-7656518dbc36",
   "metadata": {},
   "source": [
    "When comparing autosomes with the sex chromosomes, there is much stronger support for a single topology on the sex chromosome (i.e. less ILS): The Z-chromosome in birds. Could you come up with a neutral explanation why that may be? Hint: Birds are diploid organisms and the Z-chromosome is equivalent to the X-chromosome in humans."
   ]
  },
  {
   "cell_type": "markdown",
   "id": "2d76d6ca-19bf-4e6e-96ac-5a643728e69b",
   "metadata": {},
   "source": [
    "## 4. BONUS EXERCISE: Adding introgression\n",
    "\n",
    "Genome wide variation in coalescent histories can be solely driven by a neutral process such as incomplete lineage sorting, but evolutionary studies increasingly report the prevalence of hybridization and introgression between closely related taxa across the Tree-of-Life. Introgression can lead to a substantial skew in phylogenetic signal and result in an unevennes in the relative frequency of topologies observed across a genome. In the above figure for example, the proportion of topologies is uneven among the gene trees incongruent with the species tree (BBAA). There is an excess of topologies supporting a close relationship between *Cicinurrus* and *Parotia* (ABBA) on the autosomes which is likely the outcome of past hybridization. We can demonstrate this phenomenon using msprime by including a new parameter which describes the rate of gene flow between lineages (a migration matrix)."
   ]
  },
  {
   "cell_type": "markdown",
   "id": "c0e7d93d-8260-48bd-b378-1eb0d677c3bd",
   "metadata": {},
   "source": [
    "### 4.1 Evaluating introgression with (a) TWISST\n",
    "Without going into too much detail, we will use an approach called *'Topology Weighting'* ([TWISST](https://github.com/simonhmartin/twisst/tree/master)) to summarise and visualise the distribution of topologies across a chromosome. Normally TWISST is used as a standalone Python script but here we will directly incorporate the Python code underlying TWISST. If need be, we will first download one of the Python dependencies needed for TWISST."
   ]
  },
  {
   "cell_type": "code",
   "execution_count": null,
   "id": "1d3e3aef-d591-4151-a59f-8692f96283b3",
   "metadata": {},
   "outputs": [],
   "source": [
    "# If needed, download ete3, numpy and matplotlib. If already present in Conda environment, then skip this step\n",
    "%pip install ete3 numpy matplotlib"
   ]
  },
  {
   "cell_type": "markdown",
   "id": "591a8e9c-656f-4191-b93c-6b8f7ca77e15",
   "metadata": {},
   "source": [
    "**The following cell contains all the code needed for running Twisst. Simply execute so we can use the TWISST functions in the subsequent section:**"
   ]
  },
  {
   "cell_type": "code",
   "execution_count": null,
   "id": "a63ac46d-fd9d-456d-ab66-28735245cd82",
   "metadata": {},
   "outputs": [],
   "source": [
    "import argparse\n",
    "import itertools\n",
    "import sys\n",
    "import gzip\n",
    "import ete3\n",
    "import random\n",
    "import matplotlib.pyplot as plt\n",
    "import numpy as np\n",
    "from collections import defaultdict\n",
    "from collections import deque\n",
    "\n",
    "np.seterr(divide='ignore', invalid=\"ignore\")\n",
    "\n",
    "verbose = False\n",
    "##############################################################################################################################\n",
    "\n",
    "def sample(things, n = None, replace = False):\n",
    "    if n == None: n = len(things)\n",
    "    if replace == False: return random.sample(things,n)\n",
    "    else: return [random.choice(things) for i in range(n)]\n",
    "\n",
    "def randomComboGen(lists):\n",
    "    while True: yield tuple(random.choice(l) for l in lists)\n",
    "\n",
    "def readTree(newick_tree):\n",
    "    try:\n",
    "        if newick_tree[0] == \"[\": return ete3.Tree(newick_tree[newick_tree.index(\"]\")+1:])\n",
    "        else: return ete3.Tree(newick_tree)\n",
    "    except:\n",
    "        return None\n",
    "\n",
    "def asciiTrees(trees, nColumns = 5):\n",
    "    treeLines = [tree.get_ascii().split(\"\\n\") for tree in trees]\n",
    "    maxLines = max(map(len,treeLines))\n",
    "    for tl in treeLines:\n",
    "        #add lines if needed\n",
    "        tl += [\"\"]*(maxLines - len(tl))\n",
    "        #add spaces to each line to make all even\n",
    "        lineLengths = map(len,tl)\n",
    "        maxLen = max(lineLengths)\n",
    "        for i in range(len(tl)): tl[i] += \"\".join([\" \"]*(maxLen-len(tl[i])))\n",
    "    #now join lines that will be on the same row and print\n",
    "    treeLinesChunked = [treeLines[x:(x+nColumns)] for x in range(0,len(trees),nColumns)]\n",
    "    zippedLinesChunked = [zip(*chunk) for chunk in treeLinesChunked]\n",
    "    return \"\\n\\n\".join([\"\\n\".join([\"    \".join(l) for l in chunk]) for chunk in zippedLinesChunked])\n",
    "\n",
    "\n",
    "def getPrunedCopy(tree, leavesToKeep, preserve_branch_length):\n",
    "    pruned = tree.copy(\"newick\")\n",
    "    ##prune function was too slow for big trees\n",
    "    ## speeding up by first deleting all other leaves\n",
    "    for leaf in pruned.iter_leaves():\n",
    "        if leaf.name not in leavesToKeep: leaf.delete(preserve_branch_length=preserve_branch_length)\n",
    "    #and then prune to fix the root (not sure why this is necessary, but it is)\n",
    "    #but at least it's faster than pruning the full tree\n",
    "    pruned.prune(leavesToKeep, preserve_branch_length = preserve_branch_length)\n",
    "    return pruned\n",
    "\n",
    "class NodeChain(deque):\n",
    "    def __init__(self, nodeList, dists=None):\n",
    "        super(NodeChain, self).__init__(nodeList)\n",
    "        if dists is None: self.dists = None\n",
    "        else:\n",
    "            assert len(dists) == len(self)-1, \"incorrect number of iternode distances\"\n",
    "            self.dists = deque(dists)\n",
    "        self._set_ = None\n",
    "    \n",
    "    def addNode(self, name, dist=0):\n",
    "        self.append(name)\n",
    "        if self.dists is not None: self.dists.append(dist)\n",
    "    \n",
    "    def addNodeLeft(self, name, dist=0):\n",
    "        self.appendleft(name)\n",
    "        if self.dists is not None: self.dists.appendleft(dist)\n",
    "    \n",
    "    def addNodeChain(self, chainToAdd, joinDist=0):\n",
    "        self.extend(chainToAdd)\n",
    "        if self.dists is not None:\n",
    "            assert chainToAdd.dists is not None, \"Cannot add a chain without distances to one with distances\"\n",
    "            self.dists.append(joinDist)\n",
    "            self.dists.extend(chainToAdd.dists)\n",
    "    \n",
    "    def addNodeChainLeft(self, chainToAdd, joinDist=0):\n",
    "        self.extendleft(chainToAdd)\n",
    "        if self.dists is not None:\n",
    "            assert chainToAdd.dists is not None, \"Cannot add a chain without distances to one with distances\"\n",
    "            self.dists.appendleft(joinDist)\n",
    "            self.dists.extendleft(chainToAdd.dists)\n",
    "    \n",
    "    def chopLeft(self):\n",
    "        self.popleft()\n",
    "        if self.dists is not None: self.dists.popleft()\n",
    "    \n",
    "    def chop(self):\n",
    "        self.pop()\n",
    "        if self.dists is not None: self.dists.pop()\n",
    "    \n",
    "    def fuseLeft(self, chainToFuse):\n",
    "        new = NodeChain(self, self.dists)\n",
    "        assert new[0] == chainToFuse[0], \"No common nodes\"\n",
    "        i = 1\n",
    "        while new[1] == chainToFuse[i]:\n",
    "            new.chopLeft()\n",
    "            i += 1\n",
    "        m = len(chainToFuse)\n",
    "        while i < m:\n",
    "            new.addNodeLeft(chainToFuse[i], chainToFuse.dists[i-1] if self.dists is not None else None)\n",
    "            i += 1\n",
    "        return new\n",
    "    \n",
    "    def simplifyToEnds(self, newDist=None):\n",
    "        if self.dists is not None:\n",
    "            if not newDist: newDist = sum(self.dists)\n",
    "            self.dists.clear()\n",
    "        leftNode = self.popleft()\n",
    "        rightNode = self.pop()\n",
    "        self.clear()\n",
    "        self.append(leftNode)\n",
    "        self.append(rightNode)\n",
    "        if self.dists is not None:\n",
    "            self.dists.append(newDist)\n",
    "    \n",
    "    def setSet(self):\n",
    "        self._set_ = set(self)\n",
    "\n",
    "\n",
    "##simpler version that only collapses monophyletic clades\n",
    "#def getChainsToLeaves(node, collapseDict = None):\n",
    "    #children = node.get_children()\n",
    "    #if children == []:\n",
    "        #node.add_feature(\"weight\", 1)\n",
    "        #return [NodeChain(node)]\n",
    "    #chains = list(itertools.chain(*[getChainsToLeaves(child, collapseDict) for child in children]))\n",
    "    #if (collapseDict and sum([len(chain) for chain in chains]) == len(chains) and\n",
    "        #len(set([collapseDict[chain[0].name] for chain in chains])) == 1):\n",
    "        ##all chains are a leaf from same group, so we collapse\n",
    "        #newWeight = sum([chain[0].weight for chain in chains])\n",
    "        #newDist = node.dist + sum([chain[0].dist * chain[0].weight * 1. for chain in chains]) / newWeight\n",
    "        #chains[0][0].dist = newDist\n",
    "        #chains[0][0].weight = newWeight\n",
    "        #chains = [chains[0]]\n",
    "    #else:\n",
    "        #for chain in chains:\n",
    "            #chain.addNodeLeft(node, dist=chain[0].dist)\n",
    "    \n",
    "    #return chains\n",
    "\n",
    "\n",
    "def getChainsToLeaves(node, collapseDict = None, preserveDists = False):\n",
    "    children = node.get_children()\n",
    "    if children == []:\n",
    "        #if it has no children is is a child, so just record a weight for the node and return is as a new 1-node chain\n",
    "        chain = NodeChain([node], dists = [] if preserveDists else None)\n",
    "        setattr(chain, \"weight\", 1)\n",
    "        return [chain]\n",
    "    #otherwise get chains for all children\n",
    "    childrenChains = [getChainsToLeaves(child, collapseDict, preserveDists) for child in children]\n",
    "    #now we have the chains from all children, we need to add the current node\n",
    "    for childChains in childrenChains:\n",
    "        for chain in childChains: chain.addNodeLeft(node, dist=chain[0].dist if preserveDists else None)\n",
    "    \n",
    "    #if collapsing, check groups for each node\n",
    "    if collapseDict:\n",
    "        nodeGroupsAll = np.array([collapseDict[chain[-1].name] for childChains in childrenChains for chain in childChains])\n",
    "        nodeGroups = list(set(nodeGroupsAll))\n",
    "        nGroups = len(nodeGroups)\n",
    "        \n",
    "        if (nGroups == 1 and len(nodeGroupsAll) > 1):\n",
    "            #all leaves are from same group, so collapse to one chain\n",
    "            #we can also preserve distances when doing this type of collapsing\n",
    "            #first list all chains\n",
    "            chains = [chain for childChains in childrenChains for chain in childChains]\n",
    "            newWeight = sum([chain.weight for chain in chains])\n",
    "            if preserveDists:\n",
    "                newDist = sum([sum(chain.dists) * chain.weight * 1. for chain in chains]) / newWeight\n",
    "                chains[0].simplifyToEnds(newDist = newDist)\n",
    "            else:\n",
    "                chains[0].simplifyToEnds()\n",
    "            chains[0].weight = newWeight\n",
    "            chains = [chains[0]]\n",
    "        \n",
    "        elif (nGroups == 2 and len(nodeGroupsAll) > 2 and preserveDists==False):\n",
    "            #all chains end in a leaf from one of two groups, so we can simplify.\n",
    "            #first list all chains\n",
    "            chains = [chain for childChains in childrenChains for chain in childChains]\n",
    "            #Start by getting index of each chain for each group\n",
    "            indices = [(nodeGroupsAll == group).nonzero()[0] for group in nodeGroups]\n",
    "            #the new weight for each chain we keep will be the total node weight of all from each group \n",
    "            newWeights = [sum([chains[i].weight for i in idx]) for idx in indices]\n",
    "            #now reduce to just a chain for each group \n",
    "            chains = [chains[idx[0]] for idx in indices]\n",
    "            for j in range(nGroups):\n",
    "                chains[j].simplifyToEnds()\n",
    "                chains[j].weight = newWeights[j]\n",
    "        \n",
    "        #if we couldn't simply collapse completely, we might still be able to merge down a side branch\n",
    "        #Side branches are child chains ending in a single leaf\n",
    "        #If there is a lower level child branch that is itself a side branch, we can merge to it\n",
    "        elif (preserveDists == False and len(childrenChains) == 2 and\n",
    "            ((len(childrenChains[0]) == 1 and len(childrenChains[1]) > 1) or\n",
    "            (len(childrenChains[1]) == 1 and len(childrenChains[0]) > 1))):\n",
    "            chains,sideChain = (childrenChains[1],childrenChains[0][0]) if len(childrenChains[0]) == 1 else (childrenChains[0],childrenChains[1][0])\n",
    "            #now check if any main chain is suitable (should be length 3, and the only one that is such. and have correct group\n",
    "            targets = (np.array([len(chain) for chain in chains]) == 3).nonzero()[0]\n",
    "            if len(targets) == 1 and collapseDict[chains[targets[0]][-1].name] == collapseDict[sideChain[-1].name]:\n",
    "                #we have found a suitable chain to merge to\n",
    "                targetChain = chains[targets[0]]\n",
    "                newWeight = targetChain.weight + sideChain.weight\n",
    "                targetChain.simplifyToEnds()\n",
    "                targetChain.weight = newWeight\n",
    "            else:\n",
    "                #if we didn't find a suitable match, just add side chain\n",
    "                chains.append(sideChain)\n",
    "        else:\n",
    "            #if there was no side chain, just list all chains\n",
    "            chains = [chain for childChains in childrenChains for chain in childChains]\n",
    "    #otherwise we are not collapsing, so just list all chains\n",
    "    else:\n",
    "        #chains = list(itertools.chain(*[getChainsToLeaves(child, collapseDict) for child in children]))\n",
    "        chains = [chain for childChains in childrenChains for chain in childChains]\n",
    "    #now we have the chains from all children, we need to add the current node\n",
    "    \n",
    "    return chains\n",
    "\n",
    "#version for tree sequence tree format from msprime and tsinfer\n",
    "def getChainsToLeaves_ts(tree, node=None, collapseDict = None):\n",
    "    if node is None: node = tree.root\n",
    "    children = tree.children(node)\n",
    "    if children == ():\n",
    "        #if it has no children is is a child\n",
    "        #if it's in the collapseDict or there is not collapseDict\n",
    "        #just record a weight for the node and return is as a new 1-node chain\n",
    "        if collapseDict is None or node in collapseDict:\n",
    "            chain = NodeChain([node])\n",
    "            setattr(chain, \"weight\", 1)\n",
    "            return [chain]\n",
    "        else:\n",
    "            return []\n",
    "    #otherwise get chains for all children\n",
    "    childrenChains = [getChainsToLeaves_ts(tree, child, collapseDict) for child in children]\n",
    "    #now we have the chains from all children, we need to add the current node\n",
    "    for childChains in childrenChains:\n",
    "        for chain in childChains: chain.addNodeLeft(node)\n",
    "    \n",
    "    #if collapsing, check groups for each node\n",
    "    if collapseDict:\n",
    "        nodeGroupsAll = np.array([collapseDict[chain[-1]] for childChains in childrenChains for chain in childChains])\n",
    "        nodeGroups = list(set(nodeGroupsAll))\n",
    "        nGroups = len(nodeGroups)\n",
    "        \n",
    "        if (nGroups == 1 and len(nodeGroupsAll) > 1) or (nGroups == 2 and len(nodeGroupsAll) > 2):\n",
    "            #all chains end in a leaf from one or two groups, so we can simplify.\n",
    "            #first list all chains\n",
    "            chains = [chain for childChains in childrenChains for chain in childChains]\n",
    "            #Start by getting index of each chain for each group\n",
    "            indices = [(nodeGroupsAll == group).nonzero()[0] for group in nodeGroups]\n",
    "            #the new weight for each chain we keep will be the total node weight of all from each group \n",
    "            newWeights = [sum([chains[i].weight for i in idx]) for idx in indices]\n",
    "            #now reduce to just a chain for each group \n",
    "            chains = [chains[idx[0]] for idx in indices]\n",
    "            for j in range(nGroups):\n",
    "                chains[j].simplifyToEnds()\n",
    "                chains[j].weight = newWeights[j]\n",
    "        \n",
    "        #if we couldn't simply collapse completely, we might still be able to merge down a side branch\n",
    "        #Side branches are child chains ending in a single leaf\n",
    "        #If there is a lower level child branch that is itself a side branch, we can merge to it\n",
    "        elif (len(childrenChains) == 2 and\n",
    "            ((len(childrenChains[0]) == 1 and len(childrenChains[1]) > 1) or\n",
    "            (len(childrenChains[1]) == 1 and len(childrenChains[0]) > 1))):\n",
    "            chains,sideChain = (childrenChains[1],childrenChains[0][0]) if len(childrenChains[0]) == 1 else (childrenChains[0],childrenChains[1][0])\n",
    "            #now check if any main chain is suitable (should be length 3, and the only one that is such. and have correct group\n",
    "            targets = (np.array([len(chain) for chain in chains]) == 3).nonzero()[0]\n",
    "            if len(targets) == 1 and collapseDict[chains[targets[0]][-1]] == collapseDict[sideChain[-1]]:\n",
    "                #we have found a suitable internal chain to merge to\n",
    "                targetChain = chains[targets[0]]\n",
    "                newWeight = targetChain.weight + sideChain.weight\n",
    "                targetChain.simplifyToEnds()\n",
    "                targetChain.weight = newWeight\n",
    "            else:\n",
    "                #if we didn't find a suitable match, just add side chain\n",
    "                chains.append(sideChain)\n",
    "        else:\n",
    "            #if there was no side chain, just list all chains\n",
    "            chains = [chain for childChains in childrenChains for chain in childChains]\n",
    "    #otherwise we are not collapsing, so just list all chains\n",
    "    else:\n",
    "        chains = [chain for childChains in childrenChains for chain in childChains]\n",
    "    #now we have the chains from all children, we need to add the current node\n",
    "    \n",
    "    return chains\n",
    "\n",
    "\n",
    "def makeRootLeafChainDict(tree, collapseDict = None, preserveDists=False, treeFormat = \"ete3\"):\n",
    "    if treeFormat == \"ts\":\n",
    "        chains = getChainsToLeaves_ts(tree, collapseDict=collapseDict)\n",
    "        return dict([(chain[-1],chain) for chain in chains])\n",
    "    else:\n",
    "        chains = getChainsToLeaves(tree, collapseDict=collapseDict, preserveDists=preserveDists)\n",
    "        return dict([(chain[-1].name,chain) for chain in chains])\n",
    "\n",
    "def makeLeafLeafChainDict(rootLeafChainDict, pairs):\n",
    "    leafLeafChainDict = defaultdict(defaultdict)\n",
    "    \n",
    "    for pair in pairs:\n",
    "        #get the leaf leaf chain by removing the unshared ancestors and joining root leaf chains end to end\n",
    "        leafLeafChainDict[pair[0]][pair[1]] = rootLeafChainDict[pair[0]].fuseLeft(rootLeafChainDict[pair[1]])\n",
    "    \n",
    "    return leafLeafChainDict\n",
    "\n",
    "\n",
    "def checkDisjointChains(leafLeafChains, pairsOfPairs, samples=None):\n",
    "    if not samples:\n",
    "        return [leafLeafChains[pairs[0][0]][pairs[0][1]]._set_.isdisjoint(leafLeafChains[pairs[1][0]][pairs[1][1]]._set_) for pairs in pairsOfPairs]\n",
    "    else:\n",
    "        return [leafLeafChains[samples[pairs[0][0]]][samples[pairs[0][1]]]._set_.isdisjoint(leafLeafChains[samples[pairs[1][0]]][samples[pairs[1][1]]]._set_) for pairs in pairsOfPairs]\n",
    "\n",
    "\n",
    "def pairsDisjoint(pair1,pair2):\n",
    "    return pair1[0] != pair2[0] and pair1[0] != pair2[1] and pair1[1] != pair2[0] and pair1[1] != pair2[1]\n",
    "\n",
    "def makeTopoDict(taxonNames, topos=None, outgroup = None):\n",
    "    output = {}\n",
    "    output[\"topos\"] = allTopos(taxonNames, []) if topos is None else topos\n",
    "    if outgroup:\n",
    "        for topo in output[\"topos\"]: topo.set_outgroup(outgroup)\n",
    "    output[\"n\"] = len(output[\"topos\"])\n",
    "    pairs = list(itertools.combinations(taxonNames,2))\n",
    "    pairsNumeric = list(itertools.combinations(range(len(taxonNames)),2))\n",
    "    output[\"pairsOfPairs\"] = [y for y in itertools.combinations(pairs,2) if pairsDisjoint(y[0],y[1])]\n",
    "    output[\"pairsOfPairsNumeric\"] = [y for y in itertools.combinations(pairsNumeric,2) if pairsDisjoint(y[0],y[1])]\n",
    "    output[\"chainsDisjoint\"] = []\n",
    "    for tree in output[\"topos\"]:\n",
    "        rootLeafChains = makeRootLeafChainDict(tree)\n",
    "        leafLeafChains = makeLeafLeafChainDict(rootLeafChains, pairs)\n",
    "        for pair in pairs: leafLeafChains[pair[0]][pair[1]].setSet()\n",
    "        output[\"chainsDisjoint\"].append(checkDisjointChains(leafLeafChains, output[\"pairsOfPairs\"]))\n",
    "    return output\n",
    "\n",
    "def makeGroupDict(groups, names=None):\n",
    "    groupDict = {}\n",
    "    for x in range(len(groups)):\n",
    "        for y in groups[x]: groupDict[y] = x if not names else names[x]\n",
    "    return groupDict\n",
    "\n",
    "#Main weighting function that uses \"chains\" to check topologies and simplifies while generating chains\n",
    "def weightTree(tree, taxa, taxonDict=None, pairs=None, topoDict=None, nIts=None,\n",
    "                     getDists=False, simplify=True, abortCutoff=None, treeFormat=\"ete3\", verbose=True,\n",
    "                     taxonNames=None, outgroup=None):\n",
    "    \n",
    "    nTaxa = len(taxa)\n",
    "    \n",
    "    if not taxonDict: taxonDict = makeGroupDict(taxa)\n",
    "    \n",
    "    if pairs is None:\n",
    "        pairs = [pair for taxPair in itertools.combinations(taxa,2) for pair in itertools.product(*taxPair)]\n",
    "    \n",
    "    rootLeafChains = makeRootLeafChainDict(tree, collapseDict=taxonDict if simplify else None, preserveDists=getDists, treeFormat=treeFormat)\n",
    "    leavesRetained = rootLeafChains.keys()\n",
    "    leavesRetainedSet = set(leavesRetained)\n",
    "    leafWeights = dict([(ind, rootLeafChains[ind].weight) for ind in leavesRetained])\n",
    "    _pairs = [pair for pair in pairs if pair[0] in leavesRetainedSet and pair[1] in leavesRetainedSet]\n",
    "    leafLeafChains = makeLeafLeafChainDict(rootLeafChains, pairs=_pairs)\n",
    "    #make a set for each chain so that \n",
    "    for pair in _pairs: leafLeafChains[pair[0]][pair[1]].setSet()\n",
    "    \n",
    "    if topoDict is None:\n",
    "        if taxonNames is None: taxonNames = [str(x) for x in range(len(taxa))]\n",
    "        topoDict = makeTopoDict(taxonNames, outgroup=outgroup)\n",
    "    \n",
    "    _taxa = [[ind for ind in taxon if ind in leavesRetainedSet] for taxon in taxa]\n",
    "    \n",
    "    if getDists:\n",
    "        assert taxonNames is not None, \"taxonNames required for recording pairwise distances\"\n",
    "        dists = np.zeros([nTaxa, nTaxa, topoDict[\"n\"]])\n",
    "    \n",
    "    #we make a generator object for all combos\n",
    "    nCombos = np.prod([len(t) for t in _taxa])\n",
    "    #if not speciified assume all combinations must be considered\n",
    "    if nIts is None: nIts = nCombos\n",
    "    #if doing all combos, we use an exhaustive combo generator\n",
    "    if nIts >= nCombos:\n",
    "        if verbose: sys.stderr.write(\"Complete weighting for {} combinations\\n\".format(nCombos))\n",
    "        #unless there are too many combos, in which case we abort\n",
    "        if abortCutoff and nCombos > abortCutoff:\n",
    "            if verbose: sys.stderr.write(\"Aborting\\n\")\n",
    "            return None\n",
    "        comboGenerator = itertools.product(*_taxa)\n",
    "    #if we are doing a subset, then use a random combo generator, but make sure simplify was false\n",
    "    else:\n",
    "        #sys.stderr.write(\"Approximate weighting with {} combinations\\n\".format(nIts))\n",
    "        assert not simplify, \"Tree simplification should be turned off when considering only a subset of combinations.\"\n",
    "        comboGenerator = randomComboGen(_taxa)\n",
    "    \n",
    "    #initialise counts array\n",
    "    counts = [0]*topoDict[\"n\"]\n",
    "    i=0\n",
    "    for combo in comboGenerator:\n",
    "        i += 1\n",
    "        chainsDisjoint = checkDisjointChains(leafLeafChains, topoDict[\"pairsOfPairsNumeric\"], samples=combo)\n",
    "        try: x = topoDict[\"chainsDisjoint\"].index(chainsDisjoint)\n",
    "        except:\n",
    "            if i == nIts: break\n",
    "            continue\n",
    "        comboWeight = np.prod([leafWeights[ind] for ind in combo]) \n",
    "        counts[x] += comboWeight\n",
    "        \n",
    "        #get pairwise dists if necessary\n",
    "        if getDists:\n",
    "            comboPairs = [(combo[pair[0]], combo[pair[1]],) for pairs in topoDict[\"pairsOfPairsNumeric\"] for pair in pairs]\n",
    "            currentDists = np.zeros([nTaxa,nTaxa])\n",
    "            for comboPair in comboPairs:\n",
    "                taxPair = (taxonNames.index(taxonDict[comboPair[0]]), taxonNames.index(taxonDict[comboPair[1]]))\n",
    "                currentDists[taxPair[0],taxPair[1]] = currentDists[taxPair[1],taxPair[0]] = sum(leafLeafChains[comboPair[0]][comboPair[1]].dists)\n",
    "            dists[:,:,x] += currentDists*comboWeight\n",
    "        \n",
    "        if i == nIts: break\n",
    "    \n",
    "    meanDists = dists/counts if getDists else np.NaN\n",
    "    return {\"topos\":topoDict[\"topos\"], \"weights\":counts, \"dists\":meanDists}\n",
    "\n",
    "\n",
    "def weightTrees(trees, taxa=None, taxonDict=None, pairs=None, topoDict=None, nIts=None,\n",
    "                     getDists=False, simplify=True, abortCutoff=None, treeFormat=\"ete3\", verbose=True,\n",
    "                     taxonNames=None, outgroup=None):\n",
    "    \n",
    "    if taxa is None:\n",
    "        assert(treeFormat==\"ts\"), \"Taxa must be specified as a list of lists.\"\n",
    "        if taxonNames is None: taxonNames = [str(pop.id) for pop in trees.populations()]\n",
    "        taxa = [[s for s in trees.samples() if str(trees.get_population(s)) == t] for t in taxonNames]\n",
    "        \n",
    "    if topoDict is None:\n",
    "        if taxonNames is None: taxonNames = [str(x) for x in range(len(taxa))]\n",
    "        topoDict = makeTopoDict(taxonNames, outgroup=outgroup)\n",
    "    \n",
    "    if not taxonDict: taxonDict = makeGroupDict(taxa, names=taxonNames)\n",
    "    \n",
    "    if pairs is None:\n",
    "        pairs = [pair for taxPair in itertools.combinations(taxa,2) for pair in itertools.product(*taxPair)]\n",
    "    \n",
    "    _trees_ = trees.trees() if treeFormat==\"ts\" else trees\n",
    "    \n",
    "    allTreeData = [weightTree(tree, taxa, taxonDict=taxonDict, pairs=pairs, topoDict=topoDict, nIts=nIts, getDists=getDists, simplify=simplify, abortCutoff=abortCutoff, treeFormat=treeFormat, verbose=verbose) for tree in _trees_]\n",
    "    \n",
    "    output = {\"topos\":allTreeData[0][\"topos\"]}\n",
    "    output[\"dists\"] = np.array([x[\"dists\"] for x in allTreeData])\n",
    "    output[\"weights\"] = np.array([x[\"weights\"] for x in allTreeData])\n",
    "    output[\"weights_norm\"] = np.apply_along_axis(lambda x: x/x.sum(), 1, output[\"weights\"])\n",
    "    \n",
    "    return output\n",
    "\n",
    "\n",
    "def summary(weightsData):\n",
    "    if \"weights_norm\" not in weightsData:\n",
    "        weights = np.apply_along_axis(lambda x: x/x.sum(), 1, weightsData[\"weights\"])\n",
    "    else:\n",
    "        weights =weightsData[\"weights_norm\"]\n",
    "    meanWeights = weights.mean(axis=0)\n",
    "    for i in range(len(meanWeights)):\n",
    "        print(\"Topo\", i+1)\n",
    "        print(weightsData[\"topos\"][i].get_ascii())\n",
    "        print(round(meanWeights[i],3))\n",
    "        print(\"\\n\\n\")\n",
    "\n",
    "def listToNwk(t):\n",
    "    t = str(t)\n",
    "    t = t.replace(\"[\",\"(\")\n",
    "    t = t.replace(\"]\",\")\")\n",
    "    t = t.replace(\"'\",\"\")\n",
    "    t += \";\"\n",
    "    return(t)\n",
    "\n",
    "def allTopos(branches, _topos=None, _topo_IDs=None):\n",
    "    if _topos is None or _topo_IDs is None:\n",
    "        _topos = []\n",
    "        _topo_IDs = set([])\n",
    "    assert 4 <= len(branches) <= 8, \"Please specify between 4 and 8 unique taxon names.\"\n",
    "    #print(\"topos contains\", len(_topos), \"topologies.\")\n",
    "    #print(\"current tree is:\", branches)\n",
    "    for x in range(len(branches)-1):\n",
    "        for y in range(x+1,len(branches)):\n",
    "            #print(\"Joining branch\", x, branches[x], \"with branch\", y, branches[y])\n",
    "            new_branches = list(branches)\n",
    "            new_branches[x] = [new_branches[x],new_branches.pop(y)]\n",
    "            #print(\"New tree is:\", new_branches)\n",
    "            if len(new_branches) == 3:\n",
    "                #print(\"Tree has three branches, so appending to topos.\")\n",
    "                #now check that the topo doesn't match a topology already in trees, and if not add it\n",
    "                t = ete3.Tree(listToNwk(new_branches))\n",
    "                ID = t.get_topology_id()\n",
    "                if ID not in _topo_IDs:\n",
    "                    _topos.append(t)\n",
    "                    _topo_IDs.add(ID)\n",
    "            else:\n",
    "                #print(\"Tree still unresolved, so re-calling function.\")\n",
    "                _topos = allTopos(new_branches, _topos, _topo_IDs)\n",
    "    #print(_topo_IDs)\n",
    "    return(_topos)\n",
    "\n",
    "def writeWeights(weightsFile, weightsData, include_topologies=True, include_header=True):\n",
    "    nTopos = len(weightsData[\"topos\"])\n",
    "    if include_topologies:\n",
    "        for x in range(nTopos): weightsFile.write(\"#topo\" + str(x+1) + \" \" + weightsData[\"topos\"][x].write(format = 9) + \"\\n\") \n",
    "    if include_header:\n",
    "        weightsFile.write(\"\\t\".join([\"topo\" + str(x+1) for x in range(nTopos)]) + \"\\n\")\n",
    "    #write weights\n",
    "    weightsFile.write(\"\\n\".join([\"\\t\".join(row) for row in weightsData[\"weights\"].astype(str)]) + \"\\n\")\n",
    "\n",
    "\n",
    "def writeTsWindowData(filename, ts):\n",
    "    with open(\"filename\", \"wt\") as dataFile:\n",
    "        dataFile.write(\"chrom\\tstart\\tend\\n\")\n",
    "        dataFile.write(\"\\n\".join([\"\\t\".join([\"chr1\", str(tree.interval[0]), str(tree.interval[1])]) for tree in ts.trees()]) + \"\\n\")\n",
    "\n",
    "#############################################################################################################################################"
   ]
  },
  {
   "cell_type": "markdown",
   "id": "9324c5d0-3d6b-4db1-bc5d-3eb2272a9842",
   "metadata": {},
   "source": [
    "### 4.2 Simulating introgression with msprime (using a legacy version that is compatible with TWISST)\n",
    "Unfortunately, TWISST has not been updated yet to work seamlessly with the most recent version of msprime (v1.+) so **we will use a legacy API msprime command** to simulate ancestry. Let's first simulate a four population model WITHOUT introgression."
   ]
  },
  {
   "cell_type": "code",
   "execution_count": null,
   "id": "6a00648f-9d0a-4679-b833-7d7523604603",
   "metadata": {},
   "outputs": [],
   "source": [
    "pop_n = 10\n",
    "pop_Ne = 1000\n",
    "\n",
    "t_01 = 1000\n",
    "t_02 = 5000\n",
    "t_03 = 10000\n",
    "\n",
    "########################################################################################################################\n",
    "\n",
    "population_configurations = [msprime.PopulationConfiguration(sample_size=pop_n, initial_size=pop_Ne),\n",
    "                             msprime.PopulationConfiguration(sample_size=pop_n, initial_size=pop_Ne),\n",
    "                             msprime.PopulationConfiguration(sample_size=pop_n, initial_size=pop_Ne),\n",
    "                             msprime.PopulationConfiguration(sample_size=pop_n, initial_size=pop_Ne)]\n",
    "\n",
    "demographic_events = [msprime.MassMigration(time=t_01, source=1, destination=0, proportion=1.0), # first merge\n",
    "                      msprime.MassMigration(time=t_02, source=2, destination=0, proportion=1.0), # next merge\n",
    "                      msprime.MassMigration(time=t_03, source=3, destination=0, proportion=1.0)] # final merge\n",
    "\n",
    "ts = msprime.simulate(population_configurations = population_configurations,\n",
    "                      demographic_events = demographic_events,\n",
    "                      length = 50000,\n",
    "                      recombination_rate = 5e-7)\n",
    "\n",
    "ts.num_trees"
   ]
  },
  {
   "cell_type": "markdown",
   "id": "5c0086e5-f90c-44c6-ac49-fd70d6cfdcf2",
   "metadata": {},
   "source": [
    "As you may have noticed the model specification/syntax is a little bit different but it creates a simular simulation as we have seen before. The output is also very similar, which is an object of the TreeSequence Class and we will then use the `weightTrees` function of TWISST to summarise the resulting topologies."
   ]
  },
  {
   "cell_type": "code",
   "execution_count": null,
   "id": "bc9cf497-60dc-4db0-8d36-8aeba996efa2",
   "metadata": {},
   "outputs": [],
   "source": [
    "weightsData = weightTrees(ts, treeFormat=\"ts\", outgroup = \"3\", verbose=False)\n",
    "summary(weightsData)"
   ]
  },
  {
   "cell_type": "markdown",
   "id": "ff0b5022-ca46-4edb-8b51-29361035453b",
   "metadata": {},
   "source": [
    "**EXERCISE**: Can you think of a few ways to increase/decrease the unevenness between the observed frequency of topologies? Give it a try by rerunning the last two code cells\n",
    "\n",
    "**ANSWER**: ..."
   ]
  },
  {
   "cell_type": "markdown",
   "id": "d2eaeb87-41c8-4c13-aabc-3ae2158a1f69",
   "metadata": {},
   "source": [
    "The `weightTrees` function in Twisst rooted all simulated trees on one specific outgroup (a population, not a sample!) and then calculated the proportion of the observed topologies. In other words, a rooted four taxon phylogeny has three possible topologies and we calculated the relative frequency of each topology. We can also visualise a smoothed distribution of the topologies across the simulated sequence:"
   ]
  },
  {
   "cell_type": "code",
   "execution_count": null,
   "id": "d81f2646-bd77-45b7-b8e8-bd60a38322cb",
   "metadata": {},
   "outputs": [],
   "source": [
    "#extract mid positions on chromosome from tree sequence file\n",
    "position = [(tree.interval[0] + tree.interval[1])/2 for tree in ts.trees()]\n",
    "\n",
    "#normalise weights by dividing by number of combinations\n",
    "weights = weightsData[\"weights\"]/10000\n",
    "\n",
    "#create a plot with all three topology weights\n",
    "for i in range(3): \n",
    "    plt.plot(position, weights[:,i], label='topo'+str(i+1))\n",
    "    \n",
    "plt.legend()"
   ]
  },
  {
   "cell_type": "markdown",
   "id": "62c88022-c1f0-444e-85f0-eab16b604b0e",
   "metadata": {},
   "source": [
    "**Let's include introgression in the model**. To integrate introgression in the simulation, we need to adjust the migration matrix and add a migration rate change into the `demographic events` parameter of the model. Let's simulate equal rate of gene flow between population 1 and population 2, before time point 1 and migration will stop after population 0 and population 1 have merged:"
   ]
  },
  {
   "cell_type": "code",
   "execution_count": null,
   "id": "ef71cad2-df72-4fd1-872c-56158f34b17d",
   "metadata": {},
   "outputs": [],
   "source": [
    "migration_matrix = [[0,    0,    0,    0],\n",
    "                    [0,    0,    1e-4, 0],\n",
    "                    [0,    1e-4, 0,    0],\n",
    "                    [0,    0,    0,    0]]\n",
    "\n",
    "\n",
    "t_01 = 1000\n",
    "t_02 = 5000\n",
    "t_03 = 10000\n",
    "\n",
    "demographic_events = [msprime.MassMigration(time=t_01, source=1, destination=0, proportion=1.0), # first merge\n",
    "                      msprime.MigrationRateChange(time=t_01, rate=0, matrix_index=(2, 1)), # mig stop after merge\n",
    "                      msprime.MigrationRateChange(time=t_01, rate=0, matrix_index=(1, 2)), # migration is equal in both directions\n",
    "                      msprime.MassMigration(time=t_02, source=2, destination=0, proportion=1.0), #next merge\n",
    "                      msprime.MassMigration(time=t_03, source=3, destination=0, proportion=1.0)] #final merge\n",
    "\n",
    "ts = msprime.simulate(population_configurations = population_configurations,\n",
    "                      migration_matrix = migration_matrix,\n",
    "                      demographic_events = demographic_events,\n",
    "                      length = 50000,\n",
    "                      recombination_rate = 5e-7)\n",
    "\n",
    "ts.num_trees"
   ]
  },
  {
   "cell_type": "markdown",
   "id": "c2bb01d3-7364-458e-a7a4-a86e07bfb9ab",
   "metadata": {},
   "source": [
    "Before moving on to calculating the observed proportion of each topology, how do you think the above migration scenario has impacted the frequency of each topology?\n",
    "\n",
    "**Answer**:\n"
   ]
  },
  {
   "cell_type": "code",
   "execution_count": null,
   "id": "0f54a1e9-9c5b-4ece-9df7-905b4ad8194c",
   "metadata": {},
   "outputs": [],
   "source": [
    "weightsData = weightTrees(ts, treeFormat=\"ts\", outgroup = \"3\", verbose=False)\n",
    "summary(weightsData)"
   ]
  },
  {
   "cell_type": "code",
   "execution_count": null,
   "id": "bb95481f-1bad-46d1-b420-870e700aa62c",
   "metadata": {},
   "outputs": [],
   "source": [
    "#extract mid positions on chromosome from tree sequence file\n",
    "position = [(tree.interval[0] + tree.interval[1])/2 for tree in ts.trees()]\n",
    "\n",
    "#normalise weights by dividing by number of combinations\n",
    "weights = weightsData[\"weights\"]/10000\n",
    "\n",
    "#create a plot with all three topology weights\n",
    "for i in range(3): \n",
    "    plt.plot(position, weights[:,i], label='topo'+str(i+1))\n",
    "\n",
    "plt.legend()"
   ]
  },
  {
   "cell_type": "markdown",
   "id": "20611ece-0c91-49ae-9907-933633a18150",
   "metadata": {},
   "source": [
    "**SUMMARY**: Similar to a neutral process such as incomplete lineage sorting, introgression can lead to widespread heterogeneity in coalescent histories across a genome. Reconstructing a species tree can already be challenging for groups where a lot of ILS can be expected given their diversification history, and can be further complicated if introgression also plays a role. In fact, it has been shown that in some groups the most common gene tree is actually incongruent with the species tree.\n",
    "\n",
    "Finally, in the above model `recombination rate` is equal across the chromosomal segment. However, we know that this often does not match biological reality. Recombination is highly hetereogeneous within and across chromosomes, and is another important factor determining the likelihood that a foreign haplotype block can become fixed in a population. However, we leave such simulations for another exercise! :)"
   ]
  }
 ],
 "metadata": {
  "kernelspec": {
   "display_name": "Python 3 (ipykernel)",
   "language": "python",
   "name": "python3"
  },
  "language_info": {
   "codemirror_mode": {
    "name": "ipython",
    "version": 3
   },
   "file_extension": ".py",
   "mimetype": "text/x-python",
   "name": "python",
   "nbconvert_exporter": "python",
   "pygments_lexer": "ipython3",
   "version": "3.11.0"
  }
 },
 "nbformat": 4,
 "nbformat_minor": 5
}
