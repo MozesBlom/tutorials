{
 "cells": [
  {
   "cell_type": "markdown",
   "id": "81d83483-486d-4878-bce1-5f61a331a65f",
   "metadata": {},
   "source": [
    "# Tutorial: Maximum Likelihood phylogeny inference"
   ]
  },
  {
   "cell_type": "markdown",
   "id": "b13a6022-c3d7-4d1c-9991-a9eba2a170e0",
   "metadata": {},
   "source": [
    "<p> Dr. Mozes Blom (2025)<br>\n",
    "Museum für Naturkunde Berlin<br>\n",
    "Leibniz Institute for Evolutionary and Biodiversity Science</p>"
   ]
  },
  {
   "cell_type": "markdown",
   "id": "a9e5aab9-40c5-436a-856c-51a5f11ca712",
   "metadata": {},
   "source": [
    "## 1. Introduction"
   ]
  },
  {
   "cell_type": "markdown",
   "id": "1e06b54a-1163-4c2f-af2a-3b4665888288",
   "metadata": {},
   "source": [
    "### 1.1 Course note"
   ]
  },
  {
   "cell_type": "markdown",
   "id": "0ddabbca-865b-4d0b-9747-37998c49d751",
   "metadata": {},
   "source": [
    "This tutorial was developed as a practical exercise that complements Lecture Day 4 of the MSc course Phylogenetics in Ecology & Evolution, Potsdam University. For further information see the [course website](https://amniota.org/phylogenetics/)."
   ]
  },
  {
   "cell_type": "markdown",
   "id": "77c45e78-fc64-43b2-a4c0-cb402a34a156",
   "metadata": {},
   "source": [
    "### 1.2 Background"
   ]
  },
  {
   "cell_type": "markdown",
   "id": "5703403c-426c-4704-9d60-80594cadaa27",
   "metadata": {},
   "source": [
    "Phylogenetic inference with genetic data, the reconstruction of phylogenetic trees using sequences, has advanced tremendously over the past decades. Model based methods (Maximum Likelihood & Bayesian inference) use advanced algorithms in probabilistic modelling and computational science, for likelihood calculations and can now integrate a wide-range of complex models that reflect molecular mechanisms of sequence evolution.\n",
    "\n",
    "Identifying the correct substitution model is a key step in model-based phylogenetic inference and the various models differ in the complexity of rate variation that they capture across loci (transition/transversion rate, among site variation, etc.) or genes. Partitioned models can be used to differentiate between or to cluster sites that are more likely to share similar rates of sequence evolution (by gene or codon position for example).\n",
    "\n",
    "In this tutorial, we will use IQ-Tree3, a software package for phylogenetic inference using Maximum Likelihood that is very versatile, fast and able to conduct several distinct tasks for which we would otherwise need multiple independent software packages. The aim of this tutorial is to demonstrate the several steps typically involved when inferring a Maximum-Likelihood tree and to illustrate a scenario where choice of substitution model/data partitioning can lead to distinct biological interpretations."
   ]
  },
  {
   "cell_type": "markdown",
   "id": "7e61c0f5-7127-4d0e-be64-3cfd4adb2db3",
   "metadata": {},
   "source": [
    "### 1.3 Practical overview"
   ]
  },
  {
   "cell_type": "markdown",
   "id": "cd95e11d-d259-46d9-94e8-e349e242196f",
   "metadata": {},
   "source": [
    "This computer practical is styled in a Jupyter Notebook (NB) format (see Github [README](https://github.com/MozesBlom/tutorials/tree/main) for more details). In short, Jupyter NBs contain either text cells (such as the current cell) in Markdown format or code cells (frequently) in Python3 format. The aim of this practical is not to provide an exhaustive introduction into Python/Markdown/Jupyter, but to provide an introduction into phylogenomic inference using Maximum Likelihood. Therefore, all code to run this practical is already in place. In addition, there are several questions to be answered and you can double-click on the corresponding cells to enter your answer. Alternatively, you can just write them down for yourself.\n",
    "\n",
    "This tutorial is loosely based on a workshop organised by the developers of IQ-Tree (Minh Bui et al.) and includes a subset of data from [Chiara et al. (2012)](https://bmcbiol.biomedcentral.com/articles/10.1186/1741-7007-10-65). It contains all the commands to infer a ML phylogeny for this dataset but I would strongly encourage to explore the rich functionality of the programme and the fantastic [documentation](https://iqtree.github.io/doc/) with examples, explanations and walk-throughs."
   ]
  },
  {
   "cell_type": "markdown",
   "id": "99501c5c-13bf-4d99-9af5-c5343f0de310",
   "metadata": {},
   "source": [
    "### 1.4 Requirements"
   ]
  },
  {
   "cell_type": "markdown",
   "id": "b2de9809-6209-4d26-8ce8-d051aecde645",
   "metadata": {},
   "source": [
    "To run this practical, the following Python modules are needed:\n",
    "- Python 3+\n",
    "  - [biopython](https://biopython.org/)\n",
    "- [condacolab](https://github.com/conda-incubator/condacolab)\n",
    "- [iqtree3](https://iqtree.github.io/) (installed using conda and the [bioconda repository](https://anaconda.org/bioconda/iqtree))"
   ]
  },
  {
   "cell_type": "markdown",
   "id": "e3fa4286-80a3-49b5-8d9b-58ee19650e4a",
   "metadata": {},
   "source": [
    "## 2. Getting Started"
   ]
  },
  {
   "cell_type": "markdown",
   "id": "6888fb95-1d4a-4f9f-aed0-537072088c9a",
   "metadata": {},
   "source": [
    "### 2.1 Install the Conda package manager and IQtree3 on your Google Colab instance"
   ]
  },
  {
   "cell_type": "markdown",
   "id": "0f191cb1-426a-4572-a931-e5130a055c8a",
   "metadata": {},
   "source": [
    "The software and Python modules mentioned under *1.4 Requirements* first need to be installed and imported before proceeding with the rest of the NB. If running on a Google Colab instance (see [Github](https://github.com/MozesBlom/tutorials/tree/main/2023_Phy_Eco_Evol) for further details) software and modules will always need to be installed. Imagine that, each time you start a new Google Colab instance, you are basically starting a new computer for the very first time! For our installation of **iqtree3**, we will make use of a well-known package manager called Conda. [Conda](https://anaconda.org/anaconda/conda) has been developed to enable the use of distinct software environments on the same computer and it also makes it very easy to install and deploy software packages. Here we are particularly interested in the latter functionality and use it to install **iqtree3** on our google colab instance.\n",
    "\n",
    "If running on your personal desktop, in JupyterLab for example, then this may not be needed if a conda environment is already loaded and selected with the correct software and modules installed. NOTE, if you go the latter route then make sure that JupyterLab itself and all dependencies are installed in the relevant Conda environment. Otherwise, the environment will not pop up in the JupyterLab Desktop environment list and cannot be selected. In all other user cases, first proceed with installing the following software tools:"
   ]
  },
  {
   "cell_type": "code",
   "execution_count": null,
   "id": "1256b7a8-8ef8-4872-b776-a42988b47582",
   "metadata": {},
   "outputs": [],
   "source": [
    "#Install conda using the conda-colab library\n",
    "!pip install -q condacolab\n",
    "import condacolab\n",
    "condacolab.install()\n",
    "\n",
    "#Install iqtree3 from bioconda repository\n",
    "!conda install bioconda::iqtree"
   ]
  },
  {
   "cell_type": "markdown",
   "id": "389e4085-4b8a-409d-a494-e901fc7c4e99",
   "metadata": {},
   "source": [
    "What have we done? First, note the difference between sentences starting with an exclamation mark (!) and without. These are general *command line statements* which can be likened to installing software on your computer. In this case we used pip to download and install conda colab.\n",
    "\n",
    "Sentences that start without an exclamation mark are in python syntax and executed within a python environment. In the second line, we imported condacolab into the python environment and then used the condacolab function *'condacolab.install()'* to run conda colab on our colab instance.\n",
    "\n",
    "Once that is done, we have successfully installed conda on our Google colab instance and we can use conda to install the latest version of iqtree from the [bioconda repository](https://anaconda.org/bioconda/iqtree)! Have a look for yourself:"
   ]
  },
  {
   "cell_type": "code",
   "execution_count": null,
   "id": "b3b0e0f9-7cc9-4f9c-bfed-8acae3c08644",
   "metadata": {},
   "outputs": [],
   "source": [
    "!iqtree3 --help"
   ]
  },
  {
   "cell_type": "markdown",
   "id": "ceaa4ded-3d0a-4f93-aaf7-e2acac19ae49",
   "metadata": {},
   "source": [
    "**If everything was installed as expected you should now be able to see a list of all the iqtree3 options, as if the program was installed on your own computer!**\n",
    "\n",
    "![iqtree3_installed.png](img/iqtree3_installed.png)"
   ]
  },
  {
   "cell_type": "markdown",
   "id": "6a6d39db-5ebd-4a70-9be2-c1a32bb5d818",
   "metadata": {},
   "source": [
    "### 2.2 Import python modules needed"
   ]
  },
  {
   "cell_type": "markdown",
   "id": "40a76ad4-5c73-4f54-af29-ec15f8c1a9da",
   "metadata": {},
   "source": [
    "Finally, we will use conda again to download and install biopython"
   ]
  },
  {
   "cell_type": "code",
   "execution_count": null,
   "id": "3663bcf8-617c-4bd9-8a3a-cae8a3da9508",
   "metadata": {},
   "outputs": [],
   "source": [
    "# Install biopython from anaconda repository\n",
    "!conda install anaconda::biopython"
   ]
  },
  {
   "cell_type": "code",
   "execution_count": null,
   "id": "23e18c8f-1122-4777-adf1-8b6941882406",
   "metadata": {},
   "outputs": [],
   "source": [
    "# Import biopython into python environment\n",
    "import Bio"
   ]
  },
  {
   "cell_type": "markdown",
   "id": "acfccb8c-bb1c-400d-9207-63509873368c",
   "metadata": {},
   "source": [
    "## 3. Input Data"
   ]
  },
  {
   "cell_type": "markdown",
   "id": "d4f4627b-341f-4460-abbd-a4c227f870e3",
   "metadata": {},
   "source": [
    "For this tutorial, we will use a subset of a genomic dataset that was originally devised to resolve the contested relationship between turtles and other amniotes:"
   ]
  },
  {
   "cell_type": "markdown",
   "id": "adf606d4-d220-4337-b6fb-4ba7de4b8189",
   "metadata": {},
   "source": [
    "**The phylogenetic placement of turtles**\n",
    "\n",
    "![turtle_phylo.png](img/turtle_phylo.png)"
   ]
  },
  {
   "cell_type": "markdown",
   "id": "78e59782-593e-4fc5-a846-74d1c11f200c",
   "metadata": {},
   "source": [
    "**Question:** Tree thinking! Can you formulate the difference between the three phylogenies into three competing hypotheses?"
   ]
  },
  {
   "cell_type": "markdown",
   "id": "a2038682-081f-4677-b605-8de9b8302fba",
   "metadata": {},
   "source": [
    "**Answer:**"
   ]
  },
  {
   "cell_type": "markdown",
   "id": "1c184720-4c83-4a1a-867b-d8eb5c65048d",
   "metadata": {},
   "source": [
    "To differentiate between these competing hypotheses, [Chiara et al. (2012)](https://bmcbiol.biomedcentral.com/articles/10.1186/1741-7007-10-65) used high-throughput sequencing to obtain seven new transcriptomes from the blood, liver, or jaws of four turtles, a caiman, a lizard, and a lungfish. They complemented this with existing data that was available at the time. For the IQtree3 tutorial, [Minh bui et al.](https://iqtree.github.io/workshop/molevol_tutorial2025#1-input-data) took this dataset and created a subset that includes 29 genes. The alignment file itself is stored in *'.fasta'* format and the *'.nex'* is a partition file in nexus format that we will user later onwards."
   ]
  },
  {
   "cell_type": "markdown",
   "id": "320049b5-92cf-4b5b-b132-8574caacfd76",
   "metadata": {},
   "source": [
    "**Exercise:** Download the alignment and partition file to your own computer first. Drag and drop, or open it in your favourite alignment viewer. For example, you can use the Geneious program that we used for the Tutorial of Lecture 3, or the Free-to-Use viewer [Jalview](https://www.jalview.org/). The partition file (*'.nex'*) can be opened with any text editor of your choice (e.g. [vscode](https://code.visualstudio.com/))."
   ]
  },
  {
   "cell_type": "markdown",
   "id": "756ffbaa-76af-4221-a006-ae8c824e0977",
   "metadata": {},
   "source": [
    "**Question a):** Zoom out completely. The alignment file contains 29 concatenated genes, with concatenation meaning that every gene alignment is pasted directly adjacent to the previous gene. If you observe the zoomed-out alignment file, can you identify the gene boundaries? Does it roughly match with the patterns of missing data?\n",
    "\n",
    "**Question b):** The missing data is non-randomly distributed between the different species. Given the information proided above, why do you think this may be? Hint: This topic was also mentioned during the last lecture of Day 3."
   ]
  },
  {
   "cell_type": "markdown",
   "id": "497acd28-acd9-4ba8-9506-afff4ca98ef2",
   "metadata": {},
   "source": [
    "**Answer:**"
   ]
  },
  {
   "cell_type": "markdown",
   "id": "4475bdb7-d0da-432a-b3ea-fc74e6274600",
   "metadata": {},
   "source": [
    "### 3.1 Upload data to Google Colab instance"
   ]
  },
  {
   "cell_type": "code",
   "execution_count": null,
   "id": "9f9845d2-b101-4f5e-bab4-7dedc5c91f34",
   "metadata": {},
   "outputs": [],
   "source": [
    "# Now upload both files to Google colab\n",
    "!wget -cq https://iqtree.github.io/workshop/data/turtle.fa\n",
    "!wget -cq https://iqtree.github.io/workshop/data/turtle.nex"
   ]
  },
  {
   "cell_type": "markdown",
   "id": "1c096f91-4403-486d-808d-2b9b75bd8a67",
   "metadata": {},
   "source": [
    "For bioinformatics (and phylogenomics) we often cannot use GUI's such as the Geneious package introduced yesterday. Instead, we rely on *executables and command line tools* and interact with our computer using shell commands in bash. You've already used some shell commands above to install software (e.g. each code sentence starting with '!'). The two *'!wget'* commands above were instructions to the Google colab instance to download data from the subsequent links. Let's have a look at the 'download' or 'desktop' level of your google colab instance."
   ]
  },
  {
   "cell_type": "code",
   "execution_count": null,
   "id": "5ed319d8-0fb9-4691-a941-0e6047671700",
   "metadata": {},
   "outputs": [],
   "source": [
    "# Bash command to list all items in the current folder/location.\n",
    "!ls"
   ]
  },
  {
   "cell_type": "markdown",
   "id": "e4e12e21-f675-4f3d-9962-cdef5bd183e5",
   "metadata": {},
   "source": [
    "Both files have been downloaded to your Google colab instance. You now have everything that you need: i) IQtree3, for ML inference, ii) the alignment file and iii) a data partition."
   ]
  },
  {
   "cell_type": "markdown",
   "id": "155fd6e4-e330-4b81-a7fe-95040eca71bb",
   "metadata": {},
   "source": [
    "## 4. Identify the optimal substitution model"
   ]
  },
  {
   "cell_type": "markdown",
   "id": "b6cacef7-79a4-4213-9c14-13275d8db9d3",
   "metadata": {},
   "source": [
    "A major reason why ML inference is frequently used for phylogenomic studies, is that IQtree3 (and similar software packages, e.g. [RAxML](https://cme.h-its.org/exelixis/web/software/raxml/)) can do a complete ML analysis from start to finish with a single command. In contrast to Bayesian analyses, there is no need for setting and checking priors, to assess model convergence, etc. IQtree3 can identify the optimal substitution model, create a data partition and infer the ML phylogeny in one run. A ML analysis can therefore be easily scaled up and parallelized when using a High-Performance Computing (HPC) cluster, and is often used for phylogenomic scale data. For the purpose of the present tutorial, we will divide the analysis in inidividual components and discuss what happens at each step. **Please note:** From here on onwards, the commands used can often take a while (a few mins) so please be patient and have a look at the IQtree3 output while it's running. There is a lot of computational calculations going on under the hood but undoubtedly you'll recognize some terms that we discussed during our lecture."
   ]
  },
  {
   "cell_type": "code",
   "execution_count": null,
   "id": "3e0c3363-1844-46f8-877b-b0446d1e3ba8",
   "metadata": {},
   "outputs": [],
   "source": [
    "# Let's first assess the optimal substitution model for the entire dataset (rather than a partitioned analysis). Here's the command to do so:\n",
    "!iqtree3 -s turtle.fa -m TESTONLY"
   ]
  },
  {
   "cell_type": "markdown",
   "id": "0ebac70d-570d-442a-ad57-2bc5439b47f4",
   "metadata": {},
   "source": [
    "**Question:** Which substitution model was identified as the optimal model for this alignment? Does this surprise you given the size of the alignment?"
   ]
  },
  {
   "cell_type": "markdown",
   "id": "980a80c8-1970-4ad1-979a-ea5346cce3c1",
   "metadata": {},
   "source": [
    "**Answer:**"
   ]
  },
  {
   "cell_type": "markdown",
   "id": "6a09db41-454d-4871-9c17-90105330d468",
   "metadata": {},
   "source": [
    "**Exercise:** You may have noticed that IQtree3 also considers a number of extra models that we haven't discussed yet. Please have a look at the IQtree3 [documentation](https://iqtree.github.io/doc/Substitution-Models) and check out all the possible models. Can you write out what the entire 'code' stands for? E.g. F81+F = Equal substitution rates and unequal (empirical) base frequencies."
   ]
  },
  {
   "cell_type": "markdown",
   "id": "0ed583fa-3afe-41cc-a513-7d371482d97c",
   "metadata": {},
   "source": [
    "**Answer:**"
   ]
  },
  {
   "cell_type": "markdown",
   "id": "e44d6507-5272-420e-9068-18d1a5910908",
   "metadata": {},
   "source": [
    "Hint: If for some reason you lost the analyses output, you can always double check the log using the following command:"
   ]
  },
  {
   "cell_type": "code",
   "execution_count": null,
   "id": "5b7e1a69-b754-4a1a-9b74-b7e00fe22c5b",
   "metadata": {},
   "outputs": [],
   "source": [
    "!cat turtle.fa.log"
   ]
  },
  {
   "cell_type": "markdown",
   "id": "3c4e2a16-c0bb-4ba4-9dac-9a1d2dfe5d06",
   "metadata": {},
   "source": [
    "## 5. Inferring a ML phylogeny with IQtree3"
   ]
  },
  {
   "cell_type": "markdown",
   "id": "ba4aa4da-424e-4a26-ab76-b01e36bd05b6",
   "metadata": {},
   "source": [
    "### 5.1 Unpartitioned"
   ]
  },
  {
   "cell_type": "markdown",
   "id": "749e9cb0-60b8-47b4-91c7-a2fd0a9f2f6d",
   "metadata": {},
   "source": [
    "**Exercise:** Great job, so you have now identified the optimal substitution model for this specific alignment. Below you see the IQtree3 command to run a ML search using the turtle alignment and to do 1000 ultra-fast bootstraps. You can read [here](https://academic.oup.com/mbe/article/35/2/518/4565479) more about the subtle difference between 'regular', as discussed during Lecture 2, and 'ultra-fast' bootstraps. The output files have the user-defined prefix *'turtle_ML'*. Replace the placeholder, incl. the brackets, with the exact code for the optimal substitution model that you've found above and run the code. E.g. If the substitution model was 'F81+F', then the entire call should read: *'!iqtree3 -s turtle.fa -B 1000 -m F81+F --prefix turtle_ML'*"
   ]
  },
  {
   "cell_type": "code",
   "execution_count": null,
   "id": "609fa2e5-393a-4337-bc9c-46177d3f91df",
   "metadata": {},
   "outputs": [],
   "source": [
    "# Run IQtree3 with a user defined substitution model\n",
    "!iqtree3 -s turtle.fa -B 1000 -m [place_holder] --prefix turtle_ML"
   ]
  },
  {
   "cell_type": "markdown",
   "id": "ed4c0317-169c-40fc-a49e-10f73d4d0a96",
   "metadata": {},
   "source": [
    "This took a while, but don't forget that the likelihoods were calculated for a large number of possible topologies and branch lengths! Before looking at the phylogeny with the ML, let's dive a bit deeper into the analysis itself and the analysis output:\n",
    "\n",
    "**Question a):** Have a look at the first 20 or so sentences of the output. IQtree3 reports that it has read in the alignment, it interprets the alignment as DNA/RNA sequences and it then provides some details about the alignment size, the number of sequences and how many parsimony informative sites it has detected. How many parsimony informative sites did it find and what does that mean?\n",
    "\n",
    "**Question b):** IQtree3 also records the amount of missing data. Which species have more than 50% missing data?"
   ]
  },
  {
   "cell_type": "markdown",
   "id": "4e67e764-9dfa-4871-8f77-28643a926232",
   "metadata": {},
   "source": [
    "**Answer:**"
   ]
  },
  {
   "cell_type": "markdown",
   "id": "91f99a7e-c322-4123-a404-c0531f1d068a",
   "metadata": {},
   "source": [
    "Once the alignment is read, IQtree3 is then ready to start a ML search. However, as you may recall from today's lecture, to do so it will need a starting tree since the possible tree search space with 16 sequences is huge. In the output section above *'INITIALIZING CANDIDATE TREE SET'* you can see that a few reasonable first steps are taken to start searching in the right direction."
   ]
  },
  {
   "cell_type": "markdown",
   "id": "babff9ce-fd6c-4eed-89a3-b0b605ecf774",
   "metadata": {},
   "source": [
    "**Question c):** We have primarily discussed 'character' based methods to infer a phylogeny (e.g. Parsimony, ML & Bayesian). However, 'distance' based approaches are another class of phylogeny building methods. These are extremely rapid, but have several weaknessess that we will not discuss further today (I encourage you to dive deeper into this class of methods though). Either way, IQtree3 uses a distance based method to infer its first starting tree. Can you spot which method was used? Hint, it's the first log-likelihood calculated for a tree.\n",
    "\n",
    "**Question d):** After the *'INITIALIZING CANDIDATE TREE SET'* header, it then generates 98 parsimony trees and does a tree search on the 20 best initial trees. Which local tree rearrangement operation approach is used for proposing new phylogenies? Hint, these approaches were briefly discussed today in the slide on *'heuristic searches'* and in Lecture 2 as well."
   ]
  },
  {
   "cell_type": "markdown",
   "id": "5338e671-e213-4fd3-8c0a-46a8a648663e",
   "metadata": {},
   "source": [
    "**Answer:**"
   ]
  },
  {
   "cell_type": "markdown",
   "id": "f8946188-8042-447b-b6a6-132730fae376",
   "metadata": {},
   "source": [
    "Now move on to the final section of the analysis log, after the header *'FINALIZING TREE SEARCH'*"
   ]
  },
  {
   "cell_type": "markdown",
   "id": "bdb79490-3558-40e7-8d68-48de1417f394",
   "metadata": {},
   "source": [
    "**Question e):** After the *'FINALIZING TREE SEARCH'* header, IQtree3 provides a summary of the ML tree search. It lists the difference in the log-likelihood score between the first tree and the tree with the best log-likelihood score. Are these values very different, does this surprise you? \n",
    "\n",
    "**Question f):** Have a look at the difference in substitution rate parameters that IQtree3 found. Which substitutions were more common than others. Does this match theoretical expectations?"
   ]
  },
  {
   "cell_type": "markdown",
   "id": "ed5cf1da-cde6-4e76-a59b-604e2c5af38b",
   "metadata": {},
   "source": [
    "**Answer:**"
   ]
  },
  {
   "cell_type": "markdown",
   "id": "5d44b80e-ac3c-4b8e-8688-a9ff309ec51b",
   "metadata": {},
   "source": [
    "**Ok. we have looked at enough details of the analysis!! Please show me the tree, I want to know the phylogenetic placement of turtles!!**\n",
    "Fair enough! Normally, when you run these analyses on your local HPC cluster or computer desktop, you download the output file to your own computer and use a tree visualization tool (e.g. [Figtree](https://tree.bio.ed.ac.uk/software/figtree/)) to have a look at the phylogeny. However, don't forget, we are currently working on one of Google's computers, but we can use a python package to read the newick output of IQtree3 and then the matplotlib python module to visualise a graphical object"
   ]
  },
  {
   "cell_type": "code",
   "execution_count": null,
   "id": "5e2af5f5-b52e-4159-96a8-cce51e784c93",
   "metadata": {},
   "outputs": [],
   "source": [
    "## Import the Phylo class of biopython and visualise the phylogeny\n",
    "from Bio import Phylo\n",
    "import matplotlib.pyplot as plt\n",
    "tree = Phylo.read(\"turtle_ML.treefile\", \"newick\")\n",
    "fig, ax = plt.subplots(figsize=(10, 6))  # Adjust the size as needed\n",
    "ax.spines['right'].set_visible(False)\n",
    "ax.spines['top'].set_visible(False)\n",
    "Phylo.draw(tree, axes=ax)\n",
    "plt.show()"
   ]
  },
  {
   "cell_type": "markdown",
   "id": "1ca5836f-896a-4736-8a29-87f7b3108631",
   "metadata": {},
   "source": [
    "**Question G):** Which of our initial hypotheses does the ML phylogeny agree with? What is the bootstrap support for this relationship? Does it match the findings in the [Chiara et al. 2012](https://bmcbiol.biomedcentral.com/articles/10.1186/1741-7007-10-65) paper?"
   ]
  },
  {
   "cell_type": "markdown",
   "id": "f8e748f1-af4a-48f3-baab-5cc3914cf202",
   "metadata": {},
   "source": [
    "**Answer:**"
   ]
  },
  {
   "cell_type": "markdown",
   "id": "7447631a-afb1-4914-9813-9f1ea4502f18",
   "metadata": {},
   "source": [
    "### 5.2 Partitioned"
   ]
  },
  {
   "cell_type": "markdown",
   "id": "e6532b5a-7bcd-4879-825d-a51f30a40827",
   "metadata": {},
   "source": [
    "During today's lecture (Lecture 4), you have learnt that substitution rates may vary between sites (e.g. by codon position) and genes. In the above ML search we used a substitution model where the rate of substitution can vary depending on substitution type (e.g. A to T) but we have assumed that the same type of substitution (A to T) has an equal rate across all 29 genes. One can argue that this is an unlikely assumption and that we need to account for variation in substitution rates between genes. We can do so by conducting a 'partitioned' analysis instead and you have already downloaded a file where the gene boundaries in the 'turtle.fa' alignment have been delineated. Please note that this file only describes the gene boundaries and not the codon positions."
   ]
  },
  {
   "cell_type": "markdown",
   "id": "167e1838-0110-429c-bbaa-bff3e717064b",
   "metadata": {},
   "source": [
    "**Partitionfinder2** is a popular tool to partition large alignments and to simultaneously identify the correct substitution model for each data partition. However, it has also been shown that partitioning can easily lead to overparameterization; e.g. partitioning an alignment of four genes, by gene and codon position, already yields 12 different partitions. One helpful task that Partitionfinder takes care of is to identify partitions that can be clustered together and treated as a single data partition. For example, some genes may share similar rates of sequence evolution and Partitionfinder can identify such patterns and merge codon position 1 and 2 of both genes into a single data partition for which the best fit substitution model is then subsequently identified. For more details on the method, you can learn more about the method in the original paper via the following [link](https://academic.oup.com/mbe/article/29/6/1695/1000514?login=false). IQtree3 has [a built in call](https://iqtree.github.io/doc/Advanced-Tutorial#partitioned-analysis-for-multi-gene-alignments) for running PartitionFinder2 and include this in a fully automated workflow which: i) Identifies an optimal number of data partitions, ii) identify the best substitution model for each partition and iii) conduct a ML search for the tree with the highest ML score. Using the following command:"
   ]
  },
  {
   "cell_type": "code",
   "execution_count": null,
   "id": "a585983e-fcda-493e-a15f-b896a1b919df",
   "metadata": {},
   "outputs": [],
   "source": [
    "## Run a partitioned ML search with IQtree3 by providing both the sequence alignment and a nexus file identifying the corresponding boundaries for each gene in the alignment.\n",
    "## Note that we also do 1000 ultra-fast bootstraps and use a prefix for all output files.\n",
    "!iqtree3 -s turtle.fa -p turtle.nex -B 1000 -T AUTO -m MFP+MERGE -rcluster 10 --prefix turtle.merge"
   ]
  },
  {
   "cell_type": "markdown",
   "id": "7824b8f4-2cbc-431c-a907-3bad0385f99a",
   "metadata": {},
   "source": [
    "You may have noticed that this analysis took quite a bit longer than the unpartitioned analysis. But if you've paid close attention to the output of the analysis you may have noticed that it has also has conducted quite a few extra steps. Let's dissect what IQtree3 has done."
   ]
  },
  {
   "cell_type": "markdown",
   "id": "7ee47380-8ff8-4f57-a8e9-cc5944022e3a",
   "metadata": {},
   "source": [
    "Have a look at the output of IQtree3, the first operations are the same: It's starting the program and reading in the alignment. However, it then starts to *'Identifying sites to remove'*.\n",
    "\n",
    "**Question a):** When looking at the summary table of the filtered alignments, what do you notice? Hint: Also have a look at the alignment in your alignment viewer, does it make sense why IQtree3 has started with this step?"
   ]
  },
  {
   "cell_type": "markdown",
   "id": "7b70cc54-45d9-4490-9daf-8470746a6018",
   "metadata": {},
   "source": [
    "**Answer:**"
   ]
  },
  {
   "cell_type": "markdown",
   "id": "b0aa6ba2-49b0-4982-b6c6-d82fbec43992",
   "metadata": {},
   "source": [
    "After alignment filtering, Partitionfinder is comparing the rate variation between genes and clusters genes together that match."
   ]
  },
  {
   "cell_type": "code",
   "execution_count": null,
   "id": "24baeee6-3421-4fdf-a731-182f8479ec4a",
   "metadata": {},
   "outputs": [],
   "source": [
    "## Let's have a look at the number of partitions that IQtree3 ended up with:\n",
    "!cat turtle.merge.iqtree"
   ]
  },
  {
   "cell_type": "markdown",
   "id": "e05af9ee-53e1-4624-91ce-5d9f9e58b2f4",
   "metadata": {},
   "source": [
    "**Question b):** We started with 29 partitions, one for each gene, how many partitions do we have now?"
   ]
  },
  {
   "cell_type": "markdown",
   "id": "966e479f-6d80-447a-a438-975eac5f792c",
   "metadata": {},
   "source": [
    "**Answer:**"
   ]
  },
  {
   "cell_type": "markdown",
   "id": "2b8b23c5-2f71-4a18-95a1-09984bf5817f",
   "metadata": {},
   "source": [
    "Finally, let's have a look at the effect of accounting for possible rate variation between dataset partitions."
   ]
  },
  {
   "cell_type": "code",
   "execution_count": null,
   "id": "65dc63d2-71a7-473d-8cfb-85299c536345",
   "metadata": {},
   "outputs": [],
   "source": [
    "tree = Phylo.read(\"turtle.merge.treefile\", \"newick\")\n",
    "fig, ax = plt.subplots(figsize=(10, 6))  # Adjust the size as needed\n",
    "ax.spines['right'].set_visible(False)\n",
    "ax.spines['top'].set_visible(False)\n",
    "Phylo.draw(tree, axes=ax)\n",
    "plt.show()"
   ]
  },
  {
   "cell_type": "markdown",
   "id": "fa5d3a98-505d-44ae-b3a2-ebdc87c87bc7",
   "metadata": {},
   "source": [
    "**Question C):** Which of our initial hypotheses does the ML phylogeny, based on a partitiond dataset, agree with? What is the bootstrap support for this relationship? Does it match the findings in the [Chiara et al. 2012](https://bmcbiol.biomedcentral.com/articles/10.1186/1741-7007-10-65) paper?"
   ]
  },
  {
   "cell_type": "markdown",
   "id": "ee2ef6ae-f71c-4cab-90ec-061237c4f013",
   "metadata": {},
   "source": [
    "**Answer:**"
   ]
  }
 ],
 "metadata": {
  "kernelspec": {
   "display_name": "Python 3 (ipykernel)",
   "language": "python",
   "name": "python3"
  },
  "language_info": {
   "codemirror_mode": {
    "name": "ipython",
    "version": 3
   },
   "file_extension": ".py",
   "mimetype": "text/x-python",
   "name": "python",
   "nbconvert_exporter": "python",
   "pygments_lexer": "ipython3",
   "version": "3.12.11"
  }
 },
 "nbformat": 4,
 "nbformat_minor": 5
}
